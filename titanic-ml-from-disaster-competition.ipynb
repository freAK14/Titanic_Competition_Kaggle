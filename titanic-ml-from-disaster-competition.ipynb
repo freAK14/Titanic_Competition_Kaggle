{
 "cells": [
  {
   "cell_type": "markdown",
   "metadata": {
    "_cell_guid": "b1076dfc-b9ad-4769-8c92-a6c4dae69d19",
    "_uuid": "8f2839f25d086af736a60e9eeb907d3b93b6e0e5",
    "papermill": {
     "duration": 0.045803,
     "end_time": "2020-12-09T21:48:25.559568",
     "exception": false,
     "start_time": "2020-12-09T21:48:25.513765",
     "status": "completed"
    },
    "tags": []
   },
   "source": [
    "# Titanic: ML from Disaster Competition"
   ]
  },
  {
   "cell_type": "markdown",
   "metadata": {
    "_cell_guid": "79c7e3d0-c299-4dcb-8224-4455121ee9b0",
    "_uuid": "d629ff2d2480ee46fbb7e2d37f6b5fab8052498a",
    "collapsed": true,
    "papermill": {
     "duration": 0.045537,
     "end_time": "2020-12-09T21:48:25.649619",
     "exception": false,
     "start_time": "2020-12-09T21:48:25.604082",
     "status": "completed"
    },
    "tags": []
   },
   "source": [
    "This is a notebook to perform EDA on the Titanic Dataset and attempt to predict the survivors from the insights we observe."
   ]
  },
  {
   "cell_type": "markdown",
   "metadata": {
    "papermill": {
     "duration": 0.044185,
     "end_time": "2020-12-09T21:48:25.738537",
     "exception": false,
     "start_time": "2020-12-09T21:48:25.694352",
     "status": "completed"
    },
    "tags": []
   },
   "source": [
    "## Importing Libraries"
   ]
  },
  {
   "cell_type": "code",
   "execution_count": 1,
   "metadata": {
    "execution": {
     "iopub.execute_input": "2020-12-09T21:48:25.833136Z",
     "iopub.status.busy": "2020-12-09T21:48:25.832416Z",
     "iopub.status.idle": "2020-12-09T21:48:26.849880Z",
     "shell.execute_reply": "2020-12-09T21:48:26.849275Z"
    },
    "papermill": {
     "duration": 1.067176,
     "end_time": "2020-12-09T21:48:26.850018",
     "exception": false,
     "start_time": "2020-12-09T21:48:25.782842",
     "status": "completed"
    },
    "tags": []
   },
   "outputs": [],
   "source": [
    "import numpy as np\n",
    "import pandas as pd\n",
    "import seaborn as sns\n",
    "import matplotlib.pyplot as plt\n",
    "\n",
    "df = pd.read_csv('../input/titanic/train.csv')"
   ]
  },
  {
   "cell_type": "code",
   "execution_count": 2,
   "metadata": {
    "execution": {
     "iopub.execute_input": "2020-12-09T21:48:26.960871Z",
     "iopub.status.busy": "2020-12-09T21:48:26.956718Z",
     "iopub.status.idle": "2020-12-09T21:48:26.972292Z",
     "shell.execute_reply": "2020-12-09T21:48:26.971705Z"
    },
    "papermill": {
     "duration": 0.076401,
     "end_time": "2020-12-09T21:48:26.972406",
     "exception": false,
     "start_time": "2020-12-09T21:48:26.896005",
     "status": "completed"
    },
    "tags": []
   },
   "outputs": [
    {
     "data": {
      "text/html": [
       "<div>\n",
       "<style scoped>\n",
       "    .dataframe tbody tr th:only-of-type {\n",
       "        vertical-align: middle;\n",
       "    }\n",
       "\n",
       "    .dataframe tbody tr th {\n",
       "        vertical-align: top;\n",
       "    }\n",
       "\n",
       "    .dataframe thead th {\n",
       "        text-align: right;\n",
       "    }\n",
       "</style>\n",
       "<table border=\"1\" class=\"dataframe\">\n",
       "  <thead>\n",
       "    <tr style=\"text-align: right;\">\n",
       "      <th></th>\n",
       "      <th>PassengerId</th>\n",
       "      <th>Survived</th>\n",
       "      <th>Pclass</th>\n",
       "      <th>Name</th>\n",
       "      <th>Sex</th>\n",
       "      <th>Age</th>\n",
       "      <th>SibSp</th>\n",
       "      <th>Parch</th>\n",
       "      <th>Ticket</th>\n",
       "      <th>Fare</th>\n",
       "      <th>Cabin</th>\n",
       "      <th>Embarked</th>\n",
       "    </tr>\n",
       "  </thead>\n",
       "  <tbody>\n",
       "    <tr>\n",
       "      <th>0</th>\n",
       "      <td>1</td>\n",
       "      <td>0</td>\n",
       "      <td>3</td>\n",
       "      <td>Braund, Mr. Owen Harris</td>\n",
       "      <td>male</td>\n",
       "      <td>22.0</td>\n",
       "      <td>1</td>\n",
       "      <td>0</td>\n",
       "      <td>A/5 21171</td>\n",
       "      <td>7.2500</td>\n",
       "      <td>NaN</td>\n",
       "      <td>S</td>\n",
       "    </tr>\n",
       "    <tr>\n",
       "      <th>1</th>\n",
       "      <td>2</td>\n",
       "      <td>1</td>\n",
       "      <td>1</td>\n",
       "      <td>Cumings, Mrs. John Bradley (Florence Briggs Th...</td>\n",
       "      <td>female</td>\n",
       "      <td>38.0</td>\n",
       "      <td>1</td>\n",
       "      <td>0</td>\n",
       "      <td>PC 17599</td>\n",
       "      <td>71.2833</td>\n",
       "      <td>C85</td>\n",
       "      <td>C</td>\n",
       "    </tr>\n",
       "    <tr>\n",
       "      <th>2</th>\n",
       "      <td>3</td>\n",
       "      <td>1</td>\n",
       "      <td>3</td>\n",
       "      <td>Heikkinen, Miss. Laina</td>\n",
       "      <td>female</td>\n",
       "      <td>26.0</td>\n",
       "      <td>0</td>\n",
       "      <td>0</td>\n",
       "      <td>STON/O2. 3101282</td>\n",
       "      <td>7.9250</td>\n",
       "      <td>NaN</td>\n",
       "      <td>S</td>\n",
       "    </tr>\n",
       "    <tr>\n",
       "      <th>3</th>\n",
       "      <td>4</td>\n",
       "      <td>1</td>\n",
       "      <td>1</td>\n",
       "      <td>Futrelle, Mrs. Jacques Heath (Lily May Peel)</td>\n",
       "      <td>female</td>\n",
       "      <td>35.0</td>\n",
       "      <td>1</td>\n",
       "      <td>0</td>\n",
       "      <td>113803</td>\n",
       "      <td>53.1000</td>\n",
       "      <td>C123</td>\n",
       "      <td>S</td>\n",
       "    </tr>\n",
       "    <tr>\n",
       "      <th>4</th>\n",
       "      <td>5</td>\n",
       "      <td>0</td>\n",
       "      <td>3</td>\n",
       "      <td>Allen, Mr. William Henry</td>\n",
       "      <td>male</td>\n",
       "      <td>35.0</td>\n",
       "      <td>0</td>\n",
       "      <td>0</td>\n",
       "      <td>373450</td>\n",
       "      <td>8.0500</td>\n",
       "      <td>NaN</td>\n",
       "      <td>S</td>\n",
       "    </tr>\n",
       "  </tbody>\n",
       "</table>\n",
       "</div>"
      ],
      "text/plain": [
       "   PassengerId  Survived  Pclass  \\\n",
       "0            1         0       3   \n",
       "1            2         1       1   \n",
       "2            3         1       3   \n",
       "3            4         1       1   \n",
       "4            5         0       3   \n",
       "\n",
       "                                                Name     Sex   Age  SibSp  \\\n",
       "0                            Braund, Mr. Owen Harris    male  22.0      1   \n",
       "1  Cumings, Mrs. John Bradley (Florence Briggs Th...  female  38.0      1   \n",
       "2                             Heikkinen, Miss. Laina  female  26.0      0   \n",
       "3       Futrelle, Mrs. Jacques Heath (Lily May Peel)  female  35.0      1   \n",
       "4                           Allen, Mr. William Henry    male  35.0      0   \n",
       "\n",
       "   Parch            Ticket     Fare Cabin Embarked  \n",
       "0      0         A/5 21171   7.2500   NaN        S  \n",
       "1      0          PC 17599  71.2833   C85        C  \n",
       "2      0  STON/O2. 3101282   7.9250   NaN        S  \n",
       "3      0            113803  53.1000  C123        S  \n",
       "4      0            373450   8.0500   NaN        S  "
      ]
     },
     "execution_count": 2,
     "metadata": {},
     "output_type": "execute_result"
    }
   ],
   "source": [
    "df.head()"
   ]
  },
  {
   "cell_type": "code",
   "execution_count": 3,
   "metadata": {
    "execution": {
     "iopub.execute_input": "2020-12-09T21:48:27.072434Z",
     "iopub.status.busy": "2020-12-09T21:48:27.071739Z",
     "iopub.status.idle": "2020-12-09T21:48:27.083739Z",
     "shell.execute_reply": "2020-12-09T21:48:27.084428Z"
    },
    "papermill": {
     "duration": 0.065025,
     "end_time": "2020-12-09T21:48:27.084646",
     "exception": false,
     "start_time": "2020-12-09T21:48:27.019621",
     "status": "completed"
    },
    "tags": []
   },
   "outputs": [
    {
     "name": "stdout",
     "output_type": "stream",
     "text": [
      "<class 'pandas.core.frame.DataFrame'>\n",
      "RangeIndex: 891 entries, 0 to 890\n",
      "Data columns (total 12 columns):\n",
      " #   Column       Non-Null Count  Dtype  \n",
      "---  ------       --------------  -----  \n",
      " 0   PassengerId  891 non-null    int64  \n",
      " 1   Survived     891 non-null    int64  \n",
      " 2   Pclass       891 non-null    int64  \n",
      " 3   Name         891 non-null    object \n",
      " 4   Sex          891 non-null    object \n",
      " 5   Age          714 non-null    float64\n",
      " 6   SibSp        891 non-null    int64  \n",
      " 7   Parch        891 non-null    int64  \n",
      " 8   Ticket       891 non-null    object \n",
      " 9   Fare         891 non-null    float64\n",
      " 10  Cabin        204 non-null    object \n",
      " 11  Embarked     889 non-null    object \n",
      "dtypes: float64(2), int64(5), object(5)\n",
      "memory usage: 83.7+ KB\n"
     ]
    }
   ],
   "source": [
    "df.info()"
   ]
  },
  {
   "cell_type": "markdown",
   "metadata": {
    "papermill": {
     "duration": 0.047571,
     "end_time": "2020-12-09T21:48:27.180191",
     "exception": false,
     "start_time": "2020-12-09T21:48:27.132620",
     "status": "completed"
    },
    "tags": []
   },
   "source": [
    "We can see that the dataset contains 12 columns, 7 numerical and 5 categorical.\n",
    "The 'Survived','Name','Sex','Age' columns are self-explanatory, as for the rest:\n",
    "\n",
    "**Pclass** indicates the socioeconomic status of the passenger.\n",
    "Technically it is a numeric column, however it is actually categorical.\n",
    "\n",
    "**Ticket** is the ticket number of the passenger\n",
    "\n",
    "**Fare** is the ticket price\n",
    "\n",
    "**Cabin** is the cabin number of the passenger\n",
    "\n",
    "**Embarked** is the port from where the passenger embarked\n",
    "\n",
    "**SibSp** is the number of siblings or spouses aboard the ship for each passenger and\n",
    "\n",
    "**Parch** is the number of parents or children aboard the ship\n",
    "\n",
    "It also looks like a few columns have missing values, something that we'll need to address later."
   ]
  },
  {
   "cell_type": "markdown",
   "metadata": {
    "papermill": {
     "duration": 0.046621,
     "end_time": "2020-12-09T21:48:27.273817",
     "exception": false,
     "start_time": "2020-12-09T21:48:27.227196",
     "status": "completed"
    },
    "tags": []
   },
   "source": [
    "## EDA\n",
    "\n",
    "In order to select the features to use for our models, we're going to look at the distribution for each of the variables and its relations to the target variable."
   ]
  },
  {
   "cell_type": "markdown",
   "metadata": {
    "papermill": {
     "duration": 0.0476,
     "end_time": "2020-12-09T21:48:27.368362",
     "exception": false,
     "start_time": "2020-12-09T21:48:27.320762",
     "status": "completed"
    },
    "tags": []
   },
   "source": [
    "First, we split the dataframe into two, one for the numerical and one for the categorical variables"
   ]
  },
  {
   "cell_type": "code",
   "execution_count": 4,
   "metadata": {
    "execution": {
     "iopub.execute_input": "2020-12-09T21:48:27.471371Z",
     "iopub.status.busy": "2020-12-09T21:48:27.469284Z",
     "iopub.status.idle": "2020-12-09T21:48:27.474455Z",
     "shell.execute_reply": "2020-12-09T21:48:27.473921Z"
    },
    "papermill": {
     "duration": 0.059482,
     "end_time": "2020-12-09T21:48:27.474575",
     "exception": false,
     "start_time": "2020-12-09T21:48:27.415093",
     "status": "completed"
    },
    "tags": []
   },
   "outputs": [],
   "source": [
    "df_num = df.select_dtypes(exclude = 'object')\n",
    "df_cat = df.select_dtypes(include = 'object')"
   ]
  },
  {
   "cell_type": "code",
   "execution_count": 5,
   "metadata": {
    "execution": {
     "iopub.execute_input": "2020-12-09T21:48:27.580265Z",
     "iopub.status.busy": "2020-12-09T21:48:27.579351Z",
     "iopub.status.idle": "2020-12-09T21:48:27.584080Z",
     "shell.execute_reply": "2020-12-09T21:48:27.583452Z"
    },
    "papermill": {
     "duration": 0.062851,
     "end_time": "2020-12-09T21:48:27.584220",
     "exception": false,
     "start_time": "2020-12-09T21:48:27.521369",
     "status": "completed"
    },
    "tags": []
   },
   "outputs": [
    {
     "data": {
      "text/html": [
       "<div>\n",
       "<style scoped>\n",
       "    .dataframe tbody tr th:only-of-type {\n",
       "        vertical-align: middle;\n",
       "    }\n",
       "\n",
       "    .dataframe tbody tr th {\n",
       "        vertical-align: top;\n",
       "    }\n",
       "\n",
       "    .dataframe thead th {\n",
       "        text-align: right;\n",
       "    }\n",
       "</style>\n",
       "<table border=\"1\" class=\"dataframe\">\n",
       "  <thead>\n",
       "    <tr style=\"text-align: right;\">\n",
       "      <th></th>\n",
       "      <th>PassengerId</th>\n",
       "      <th>Survived</th>\n",
       "      <th>Pclass</th>\n",
       "      <th>Age</th>\n",
       "      <th>SibSp</th>\n",
       "      <th>Parch</th>\n",
       "      <th>Fare</th>\n",
       "    </tr>\n",
       "  </thead>\n",
       "  <tbody>\n",
       "    <tr>\n",
       "      <th>0</th>\n",
       "      <td>1</td>\n",
       "      <td>0</td>\n",
       "      <td>3</td>\n",
       "      <td>22.0</td>\n",
       "      <td>1</td>\n",
       "      <td>0</td>\n",
       "      <td>7.2500</td>\n",
       "    </tr>\n",
       "    <tr>\n",
       "      <th>1</th>\n",
       "      <td>2</td>\n",
       "      <td>1</td>\n",
       "      <td>1</td>\n",
       "      <td>38.0</td>\n",
       "      <td>1</td>\n",
       "      <td>0</td>\n",
       "      <td>71.2833</td>\n",
       "    </tr>\n",
       "    <tr>\n",
       "      <th>2</th>\n",
       "      <td>3</td>\n",
       "      <td>1</td>\n",
       "      <td>3</td>\n",
       "      <td>26.0</td>\n",
       "      <td>0</td>\n",
       "      <td>0</td>\n",
       "      <td>7.9250</td>\n",
       "    </tr>\n",
       "    <tr>\n",
       "      <th>3</th>\n",
       "      <td>4</td>\n",
       "      <td>1</td>\n",
       "      <td>1</td>\n",
       "      <td>35.0</td>\n",
       "      <td>1</td>\n",
       "      <td>0</td>\n",
       "      <td>53.1000</td>\n",
       "    </tr>\n",
       "    <tr>\n",
       "      <th>4</th>\n",
       "      <td>5</td>\n",
       "      <td>0</td>\n",
       "      <td>3</td>\n",
       "      <td>35.0</td>\n",
       "      <td>0</td>\n",
       "      <td>0</td>\n",
       "      <td>8.0500</td>\n",
       "    </tr>\n",
       "  </tbody>\n",
       "</table>\n",
       "</div>"
      ],
      "text/plain": [
       "   PassengerId  Survived  Pclass   Age  SibSp  Parch     Fare\n",
       "0            1         0       3  22.0      1      0   7.2500\n",
       "1            2         1       1  38.0      1      0  71.2833\n",
       "2            3         1       3  26.0      0      0   7.9250\n",
       "3            4         1       1  35.0      1      0  53.1000\n",
       "4            5         0       3  35.0      0      0   8.0500"
      ]
     },
     "execution_count": 5,
     "metadata": {},
     "output_type": "execute_result"
    }
   ],
   "source": [
    "df_num.head()"
   ]
  },
  {
   "cell_type": "code",
   "execution_count": 6,
   "metadata": {
    "execution": {
     "iopub.execute_input": "2020-12-09T21:48:27.692945Z",
     "iopub.status.busy": "2020-12-09T21:48:27.692217Z",
     "iopub.status.idle": "2020-12-09T21:48:27.695323Z",
     "shell.execute_reply": "2020-12-09T21:48:27.695799Z"
    },
    "papermill": {
     "duration": 0.063439,
     "end_time": "2020-12-09T21:48:27.695945",
     "exception": false,
     "start_time": "2020-12-09T21:48:27.632506",
     "status": "completed"
    },
    "tags": []
   },
   "outputs": [
    {
     "data": {
      "text/html": [
       "<div>\n",
       "<style scoped>\n",
       "    .dataframe tbody tr th:only-of-type {\n",
       "        vertical-align: middle;\n",
       "    }\n",
       "\n",
       "    .dataframe tbody tr th {\n",
       "        vertical-align: top;\n",
       "    }\n",
       "\n",
       "    .dataframe thead th {\n",
       "        text-align: right;\n",
       "    }\n",
       "</style>\n",
       "<table border=\"1\" class=\"dataframe\">\n",
       "  <thead>\n",
       "    <tr style=\"text-align: right;\">\n",
       "      <th></th>\n",
       "      <th>Name</th>\n",
       "      <th>Sex</th>\n",
       "      <th>Ticket</th>\n",
       "      <th>Cabin</th>\n",
       "      <th>Embarked</th>\n",
       "    </tr>\n",
       "  </thead>\n",
       "  <tbody>\n",
       "    <tr>\n",
       "      <th>0</th>\n",
       "      <td>Braund, Mr. Owen Harris</td>\n",
       "      <td>male</td>\n",
       "      <td>A/5 21171</td>\n",
       "      <td>NaN</td>\n",
       "      <td>S</td>\n",
       "    </tr>\n",
       "    <tr>\n",
       "      <th>1</th>\n",
       "      <td>Cumings, Mrs. John Bradley (Florence Briggs Th...</td>\n",
       "      <td>female</td>\n",
       "      <td>PC 17599</td>\n",
       "      <td>C85</td>\n",
       "      <td>C</td>\n",
       "    </tr>\n",
       "    <tr>\n",
       "      <th>2</th>\n",
       "      <td>Heikkinen, Miss. Laina</td>\n",
       "      <td>female</td>\n",
       "      <td>STON/O2. 3101282</td>\n",
       "      <td>NaN</td>\n",
       "      <td>S</td>\n",
       "    </tr>\n",
       "    <tr>\n",
       "      <th>3</th>\n",
       "      <td>Futrelle, Mrs. Jacques Heath (Lily May Peel)</td>\n",
       "      <td>female</td>\n",
       "      <td>113803</td>\n",
       "      <td>C123</td>\n",
       "      <td>S</td>\n",
       "    </tr>\n",
       "    <tr>\n",
       "      <th>4</th>\n",
       "      <td>Allen, Mr. William Henry</td>\n",
       "      <td>male</td>\n",
       "      <td>373450</td>\n",
       "      <td>NaN</td>\n",
       "      <td>S</td>\n",
       "    </tr>\n",
       "  </tbody>\n",
       "</table>\n",
       "</div>"
      ],
      "text/plain": [
       "                                                Name     Sex  \\\n",
       "0                            Braund, Mr. Owen Harris    male   \n",
       "1  Cumings, Mrs. John Bradley (Florence Briggs Th...  female   \n",
       "2                             Heikkinen, Miss. Laina  female   \n",
       "3       Futrelle, Mrs. Jacques Heath (Lily May Peel)  female   \n",
       "4                           Allen, Mr. William Henry    male   \n",
       "\n",
       "             Ticket Cabin Embarked  \n",
       "0         A/5 21171   NaN        S  \n",
       "1          PC 17599   C85        C  \n",
       "2  STON/O2. 3101282   NaN        S  \n",
       "3            113803  C123        S  \n",
       "4            373450   NaN        S  "
      ]
     },
     "execution_count": 6,
     "metadata": {},
     "output_type": "execute_result"
    }
   ],
   "source": [
    "df_cat.head()"
   ]
  },
  {
   "cell_type": "markdown",
   "metadata": {
    "papermill": {
     "duration": 0.047325,
     "end_time": "2020-12-09T21:48:27.791343",
     "exception": false,
     "start_time": "2020-12-09T21:48:27.744018",
     "status": "completed"
    },
    "tags": []
   },
   "source": [
    "The describe() method can give us a quick glance at some basic descriptive statistics."
   ]
  },
  {
   "cell_type": "code",
   "execution_count": 7,
   "metadata": {
    "execution": {
     "iopub.execute_input": "2020-12-09T21:48:27.895388Z",
     "iopub.status.busy": "2020-12-09T21:48:27.894699Z",
     "iopub.status.idle": "2020-12-09T21:48:27.923848Z",
     "shell.execute_reply": "2020-12-09T21:48:27.923279Z"
    },
    "papermill": {
     "duration": 0.084757,
     "end_time": "2020-12-09T21:48:27.923964",
     "exception": false,
     "start_time": "2020-12-09T21:48:27.839207",
     "status": "completed"
    },
    "tags": []
   },
   "outputs": [
    {
     "data": {
      "text/html": [
       "<div>\n",
       "<style scoped>\n",
       "    .dataframe tbody tr th:only-of-type {\n",
       "        vertical-align: middle;\n",
       "    }\n",
       "\n",
       "    .dataframe tbody tr th {\n",
       "        vertical-align: top;\n",
       "    }\n",
       "\n",
       "    .dataframe thead th {\n",
       "        text-align: right;\n",
       "    }\n",
       "</style>\n",
       "<table border=\"1\" class=\"dataframe\">\n",
       "  <thead>\n",
       "    <tr style=\"text-align: right;\">\n",
       "      <th></th>\n",
       "      <th>Survived</th>\n",
       "      <th>Pclass</th>\n",
       "      <th>Age</th>\n",
       "      <th>SibSp</th>\n",
       "      <th>Parch</th>\n",
       "      <th>Fare</th>\n",
       "    </tr>\n",
       "  </thead>\n",
       "  <tbody>\n",
       "    <tr>\n",
       "      <th>count</th>\n",
       "      <td>891.000000</td>\n",
       "      <td>891.000000</td>\n",
       "      <td>714.000000</td>\n",
       "      <td>891.000000</td>\n",
       "      <td>891.000000</td>\n",
       "      <td>891.000000</td>\n",
       "    </tr>\n",
       "    <tr>\n",
       "      <th>mean</th>\n",
       "      <td>0.383838</td>\n",
       "      <td>2.308642</td>\n",
       "      <td>29.699118</td>\n",
       "      <td>0.523008</td>\n",
       "      <td>0.381594</td>\n",
       "      <td>32.204208</td>\n",
       "    </tr>\n",
       "    <tr>\n",
       "      <th>std</th>\n",
       "      <td>0.486592</td>\n",
       "      <td>0.836071</td>\n",
       "      <td>14.526497</td>\n",
       "      <td>1.102743</td>\n",
       "      <td>0.806057</td>\n",
       "      <td>49.693429</td>\n",
       "    </tr>\n",
       "    <tr>\n",
       "      <th>min</th>\n",
       "      <td>0.000000</td>\n",
       "      <td>1.000000</td>\n",
       "      <td>0.420000</td>\n",
       "      <td>0.000000</td>\n",
       "      <td>0.000000</td>\n",
       "      <td>0.000000</td>\n",
       "    </tr>\n",
       "    <tr>\n",
       "      <th>25%</th>\n",
       "      <td>0.000000</td>\n",
       "      <td>2.000000</td>\n",
       "      <td>20.125000</td>\n",
       "      <td>0.000000</td>\n",
       "      <td>0.000000</td>\n",
       "      <td>7.910400</td>\n",
       "    </tr>\n",
       "    <tr>\n",
       "      <th>50%</th>\n",
       "      <td>0.000000</td>\n",
       "      <td>3.000000</td>\n",
       "      <td>28.000000</td>\n",
       "      <td>0.000000</td>\n",
       "      <td>0.000000</td>\n",
       "      <td>14.454200</td>\n",
       "    </tr>\n",
       "    <tr>\n",
       "      <th>75%</th>\n",
       "      <td>1.000000</td>\n",
       "      <td>3.000000</td>\n",
       "      <td>38.000000</td>\n",
       "      <td>1.000000</td>\n",
       "      <td>0.000000</td>\n",
       "      <td>31.000000</td>\n",
       "    </tr>\n",
       "    <tr>\n",
       "      <th>max</th>\n",
       "      <td>1.000000</td>\n",
       "      <td>3.000000</td>\n",
       "      <td>80.000000</td>\n",
       "      <td>8.000000</td>\n",
       "      <td>6.000000</td>\n",
       "      <td>512.329200</td>\n",
       "    </tr>\n",
       "  </tbody>\n",
       "</table>\n",
       "</div>"
      ],
      "text/plain": [
       "         Survived      Pclass         Age       SibSp       Parch        Fare\n",
       "count  891.000000  891.000000  714.000000  891.000000  891.000000  891.000000\n",
       "mean     0.383838    2.308642   29.699118    0.523008    0.381594   32.204208\n",
       "std      0.486592    0.836071   14.526497    1.102743    0.806057   49.693429\n",
       "min      0.000000    1.000000    0.420000    0.000000    0.000000    0.000000\n",
       "25%      0.000000    2.000000   20.125000    0.000000    0.000000    7.910400\n",
       "50%      0.000000    3.000000   28.000000    0.000000    0.000000   14.454200\n",
       "75%      1.000000    3.000000   38.000000    1.000000    0.000000   31.000000\n",
       "max      1.000000    3.000000   80.000000    8.000000    6.000000  512.329200"
      ]
     },
     "execution_count": 7,
     "metadata": {},
     "output_type": "execute_result"
    }
   ],
   "source": [
    "df_num.describe().drop('PassengerId', axis  = 1)"
   ]
  },
  {
   "cell_type": "markdown",
   "metadata": {
    "papermill": {
     "duration": 0.048171,
     "end_time": "2020-12-09T21:48:28.020560",
     "exception": false,
     "start_time": "2020-12-09T21:48:27.972389",
     "status": "completed"
    },
    "tags": []
   },
   "source": [
    "Next, we will plot the distributions of the variables while paying attention to the relationship with the target variable too, but first we will look at a visualization of the correlations between variables."
   ]
  },
  {
   "cell_type": "code",
   "execution_count": 8,
   "metadata": {
    "execution": {
     "iopub.execute_input": "2020-12-09T21:48:28.127034Z",
     "iopub.status.busy": "2020-12-09T21:48:28.126321Z",
     "iopub.status.idle": "2020-12-09T21:48:28.589455Z",
     "shell.execute_reply": "2020-12-09T21:48:28.588869Z"
    },
    "papermill": {
     "duration": 0.520625,
     "end_time": "2020-12-09T21:48:28.589581",
     "exception": false,
     "start_time": "2020-12-09T21:48:28.068956",
     "status": "completed"
    },
    "tags": []
   },
   "outputs": [
    {
     "data": {
      "text/plain": [
       "[]"
      ]
     },
     "execution_count": 8,
     "metadata": {},
     "output_type": "execute_result"
    },
    {
     "data": {
      "image/png": "[encoded data removed]",
      "text/plain": [
       "<Figure size 576x432 with 2 Axes>"
      ]
     },
     "metadata": {
      "needs_background": "light"
     },
     "output_type": "display_data"
    }
   ],
   "source": [
    "num_corrs = df_num.corr()\n",
    "\n",
    "plt.figure(figsize = (8, 6))\n",
    "sns.heatmap(num_corrs, annot = True)\n",
    "plt.plot()"
   ]
  },
  {
   "cell_type": "markdown",
   "metadata": {
    "papermill": {
     "duration": 0.050175,
     "end_time": "2020-12-09T21:48:28.691834",
     "exception": false,
     "start_time": "2020-12-09T21:48:28.641659",
     "status": "completed"
    },
    "tags": []
   },
   "source": [
    "The variables that seem to affect the survival rate the most are Fare and Pclass, indicating that the financial position of a passenger probably is an important factor for survival.\n",
    "\n",
    "Somewhat confusingly, Pclass and Fare are highly anticorrelated, but this happens because the smaller values for Pclass indicate higher status.\n",
    "\n",
    "The rest of the variables look like they have a smaller impact on the probability of survival. SibSp and Parch have a high correlation between them since both are related to the total number of relatives on board. They also both have a significant anticorrelation with the Age variable.\n",
    "\n",
    "Let's now plot the distributions of the variables."
   ]
  },
  {
   "cell_type": "code",
   "execution_count": 9,
   "metadata": {
    "execution": {
     "iopub.execute_input": "2020-12-09T21:48:28.801943Z",
     "iopub.status.busy": "2020-12-09T21:48:28.801210Z",
     "iopub.status.idle": "2020-12-09T21:48:29.189021Z",
     "shell.execute_reply": "2020-12-09T21:48:29.188335Z"
    },
    "papermill": {
     "duration": 0.446783,
     "end_time": "2020-12-09T21:48:29.189137",
     "exception": false,
     "start_time": "2020-12-09T21:48:28.742354",
     "status": "completed"
    },
    "tags": []
   },
   "outputs": [
    {
     "data": {
      "text/plain": [
       "[]"
      ]
     },
     "execution_count": 9,
     "metadata": {},
     "output_type": "execute_result"
    },
    {
     "data": {
      "image/png": "[encoded data removed]",
      "text/plain": [
       "<Figure size 1008x432 with 1 Axes>"
      ]
     },
     "metadata": {},
     "output_type": "display_data"
    }
   ],
   "source": [
    "sns.set()\n",
    "plt.figure(figsize = (14, 6))\n",
    "a = plt.axvline(df[df['Survived'] == 0]['Fare'].median(), color = 'r')\n",
    "sns.distplot(df[df['Survived'] == 0]['Fare'], bins = 15, color = 'r', kde = False)\n",
    "b = plt.axvline(df[df['Survived'] == 1]['Fare'].median(), color = 'b')\n",
    "plt.legend([a, b], ['Non-Survivor Median', 'Median'])\n",
    "sns.distplot(df[df['Survived'] == 1]['Fare'], bins = 15, color = 'b', kde = False)\n",
    "plt.title(\"Fare Distribution\")\n",
    "plt.plot()"
   ]
  },
  {
   "cell_type": "code",
   "execution_count": 10,
   "metadata": {
    "execution": {
     "iopub.execute_input": "2020-12-09T21:48:29.308624Z",
     "iopub.status.busy": "2020-12-09T21:48:29.302355Z",
     "iopub.status.idle": "2020-12-09T21:48:29.665278Z",
     "shell.execute_reply": "2020-12-09T21:48:29.664675Z"
    },
    "papermill": {
     "duration": 0.42471,
     "end_time": "2020-12-09T21:48:29.665410",
     "exception": false,
     "start_time": "2020-12-09T21:48:29.240700",
     "status": "completed"
    },
    "tags": []
   },
   "outputs": [
    {
     "data": {
      "text/plain": [
       "[]"
      ]
     },
     "execution_count": 10,
     "metadata": {},
     "output_type": "execute_result"
    },
    {
     "data": {
      "image/png": "[encoded data removed]",
      "text/plain": [
       "<Figure size 1008x432 with 1 Axes>"
      ]
     },
     "metadata": {},
     "output_type": "display_data"
    }
   ],
   "source": [
    "plt.figure(figsize = (14, 6))\n",
    "a = plt.axvline(df[df['Survived'] == 0]['Age'].median(), color = 'r')\n",
    "sns.distplot(df[df['Survived'] == 0]['Age'], bins = 10, color = 'r', kde = False)\n",
    "b = plt.axvline(df[df['Survived'] == 1]['Age'].median(), color = 'b')\n",
    "plt.legend([a, b], ['Non-Survivor Median', 'Median'])\n",
    "sns.distplot(df[df['Survived'] == 1]['Age'], bins = 10, color = 'b', kde = False)\n",
    "plt.title(\"Age Distribution\")\n",
    "plt.plot()"
   ]
  },
  {
   "cell_type": "code",
   "execution_count": 11,
   "metadata": {
    "execution": {
     "iopub.execute_input": "2020-12-09T21:48:29.781411Z",
     "iopub.status.busy": "2020-12-09T21:48:29.780371Z",
     "iopub.status.idle": "2020-12-09T21:48:30.224198Z",
     "shell.execute_reply": "2020-12-09T21:48:30.223632Z"
    },
    "papermill": {
     "duration": 0.506461,
     "end_time": "2020-12-09T21:48:30.224325",
     "exception": false,
     "start_time": "2020-12-09T21:48:29.717864",
     "status": "completed"
    },
    "tags": []
   },
   "outputs": [
    {
     "data": {
      "text/plain": [
       "[]"
      ]
     },
     "execution_count": 11,
     "metadata": {},
     "output_type": "execute_result"
    },
    {
     "data": {
      "image/png": "[encoded data removed]",
      "text/plain": [
       "<Figure size 1008x432 with 1 Axes>"
      ]
     },
     "metadata": {},
     "output_type": "display_data"
    }
   ],
   "source": [
    "plt.figure(figsize = (14, 6))\n",
    "a = plt.axvline(df[df['Survived'] == 0]['SibSp'].median(), color = 'r')\n",
    "sns.distplot(df[df['Survived'] == 0]['SibSp'], bins = 10, color = 'r', kde = False)\n",
    "b = plt.axvline(df[df['Survived'] == 1]['SibSp'].median(), color = 'b')\n",
    "plt.legend([a, b], ['Non-Survivor Median', 'Median'])\n",
    "sns.distplot(df[df['Survived'] == 1]['SibSp'], bins = 10, color = 'b', kde = False)\n",
    "plt.title(\"SibSp Distribution\")\n",
    "plt.plot()"
   ]
  },
  {
   "cell_type": "code",
   "execution_count": 12,
   "metadata": {
    "execution": {
     "iopub.execute_input": "2020-12-09T21:48:30.370663Z",
     "iopub.status.busy": "2020-12-09T21:48:30.369637Z",
     "iopub.status.idle": "2020-12-09T21:48:30.743326Z",
     "shell.execute_reply": "2020-12-09T21:48:30.742656Z"
    },
    "papermill": {
     "duration": 0.448905,
     "end_time": "2020-12-09T21:48:30.743443",
     "exception": false,
     "start_time": "2020-12-09T21:48:30.294538",
     "status": "completed"
    },
    "tags": []
   },
   "outputs": [
    {
     "data": {
      "text/plain": [
       "[]"
      ]
     },
     "execution_count": 12,
     "metadata": {},
     "output_type": "execute_result"
    },
    {
     "data": {
      "image/png": "[encoded data removed]",
      "text/plain": [
       "<Figure size 1008x432 with 1 Axes>"
      ]
     },
     "metadata": {},
     "output_type": "display_data"
    }
   ],
   "source": [
    "plt.figure(figsize = (14, 6))\n",
    "a = plt.axvline(df[df['Survived'] == 0]['Parch'].median(), color = 'r')\n",
    "sns.distplot(df[df['Survived'] == 0]['Parch'], bins = 10, color = 'r', kde = False)\n",
    "b = plt.axvline(df[df['Survived'] == 1]['Parch'].median(), color = 'b')\n",
    "plt.legend([a, b], ['Non-Survivor Median', 'Median'])\n",
    "sns.distplot(df[df['Survived'] == 1]['Parch'], bins = 10, color = 'b', kde = False)\n",
    "plt.title(\"Parch Distribution\")\n",
    "plt.plot()"
   ]
  },
  {
   "cell_type": "code",
   "execution_count": 13,
   "metadata": {
    "execution": {
     "iopub.execute_input": "2020-12-09T21:48:30.861367Z",
     "iopub.status.busy": "2020-12-09T21:48:30.860097Z",
     "iopub.status.idle": "2020-12-09T21:48:31.057738Z",
     "shell.execute_reply": "2020-12-09T21:48:31.057035Z"
    },
    "papermill": {
     "duration": 0.259139,
     "end_time": "2020-12-09T21:48:31.057857",
     "exception": false,
     "start_time": "2020-12-09T21:48:30.798718",
     "status": "completed"
    },
    "tags": []
   },
   "outputs": [
    {
     "data": {
      "text/plain": [
       "[]"
      ]
     },
     "execution_count": 13,
     "metadata": {},
     "output_type": "execute_result"
    },
    {
     "data": {
      "image/png": "[encoded data removed]",
      "text/plain": [
       "<Figure size 1008x432 with 1 Axes>"
      ]
     },
     "metadata": {},
     "output_type": "display_data"
    }
   ],
   "source": [
    "plt.figure(figsize = (14, 6))\n",
    "sns.countplot(x = df['Pclass'], hue = df['Survived'])\n",
    "plt.title(\"Survived/Not Survived w.r.t. PClass\")\n",
    "plt.plot()"
   ]
  },
  {
   "cell_type": "code",
   "execution_count": 14,
   "metadata": {
    "execution": {
     "iopub.execute_input": "2020-12-09T21:48:31.177909Z",
     "iopub.status.busy": "2020-12-09T21:48:31.177120Z",
     "iopub.status.idle": "2020-12-09T21:48:31.339739Z",
     "shell.execute_reply": "2020-12-09T21:48:31.339061Z"
    },
    "papermill": {
     "duration": 0.2256,
     "end_time": "2020-12-09T21:48:31.339851",
     "exception": false,
     "start_time": "2020-12-09T21:48:31.114251",
     "status": "completed"
    },
    "tags": []
   },
   "outputs": [
    {
     "data": {
      "text/plain": [
       "[]"
      ]
     },
     "execution_count": 14,
     "metadata": {},
     "output_type": "execute_result"
    },
    {
     "data": {
      "image/png": "[encoded data removed]",
      "text/plain": [
       "<Figure size 1008x432 with 1 Axes>"
      ]
     },
     "metadata": {},
     "output_type": "display_data"
    }
   ],
   "source": [
    "plt.figure(figsize = (14, 6))\n",
    "sns.countplot(x = df['Sex'], hue = df['Survived'])\n",
    "plt.title(\"Survived/Not Survived w.r.t. Sex\")\n",
    "plt.plot()"
   ]
  },
  {
   "cell_type": "code",
   "execution_count": 15,
   "metadata": {
    "execution": {
     "iopub.execute_input": "2020-12-09T21:48:31.463607Z",
     "iopub.status.busy": "2020-12-09T21:48:31.462844Z",
     "iopub.status.idle": "2020-12-09T21:48:31.660541Z",
     "shell.execute_reply": "2020-12-09T21:48:31.661041Z"
    },
    "papermill": {
     "duration": 0.263787,
     "end_time": "2020-12-09T21:48:31.661210",
     "exception": false,
     "start_time": "2020-12-09T21:48:31.397423",
     "status": "completed"
    },
    "tags": []
   },
   "outputs": [
    {
     "data": {
      "text/plain": [
       "[]"
      ]
     },
     "execution_count": 15,
     "metadata": {},
     "output_type": "execute_result"
    },
    {
     "data": {
      "image/png": "[encoded data removed]",
      "text/plain": [
       "<Figure size 1008x432 with 1 Axes>"
      ]
     },
     "metadata": {},
     "output_type": "display_data"
    }
   ],
   "source": [
    "plt.figure(figsize = (14, 6))\n",
    "sns.countplot(x = df['Embarked'], hue = df['Survived'])\n",
    "plt.title(\"Survived/Not Survived w.r.t. Embarked\")\n",
    "plt.plot()"
   ]
  },
  {
   "cell_type": "markdown",
   "metadata": {
    "papermill": {
     "duration": 0.05838,
     "end_time": "2020-12-09T21:48:31.780775",
     "exception": false,
     "start_time": "2020-12-09T21:48:31.722395",
     "status": "completed"
    },
    "tags": []
   },
   "source": [
    "We can see that:\n",
    "\n",
    "The median ticket price for survivors is higher than fore non-survivors.\n",
    "\n",
    "The median age is the same for both groups. In fact it looks like age plays a role only for the youngest of passengers (0-10 years old).\n",
    "\n",
    "The number of siblings and spouses or parents and children, also don't seem to have a big impact on the chances of survival.\n",
    "\n",
    "On the other hand, Pclass an especially Sex look like they are quite important when it comes to survival.\n",
    "\n",
    "Finally it looks like the port where the passenger embarked form doesn't have a great impact on survival.\n",
    "\n",
    "Next up, we'll see if we can extract some more usefull information with feature engineering and also get the data ready for our models to handle."
   ]
  },
  {
   "cell_type": "markdown",
   "metadata": {
    "papermill": {
     "duration": 0.058373,
     "end_time": "2020-12-09T21:48:31.897478",
     "exception": false,
     "start_time": "2020-12-09T21:48:31.839105",
     "status": "completed"
    },
    "tags": []
   },
   "source": [
    "## Feature engineering & preprocessing"
   ]
  },
  {
   "cell_type": "markdown",
   "metadata": {
    "papermill": {
     "duration": 0.058158,
     "end_time": "2020-12-09T21:48:32.013960",
     "exception": false,
     "start_time": "2020-12-09T21:48:31.955802",
     "status": "completed"
    },
    "tags": []
   },
   "source": [
    "Let's take a look at the categorical variables:"
   ]
  },
  {
   "cell_type": "code",
   "execution_count": 16,
   "metadata": {
    "execution": {
     "iopub.execute_input": "2020-12-09T21:48:32.143768Z",
     "iopub.status.busy": "2020-12-09T21:48:32.142723Z",
     "iopub.status.idle": "2020-12-09T21:48:32.147143Z",
     "shell.execute_reply": "2020-12-09T21:48:32.146599Z"
    },
    "papermill": {
     "duration": 0.074876,
     "end_time": "2020-12-09T21:48:32.147279",
     "exception": false,
     "start_time": "2020-12-09T21:48:32.072403",
     "status": "completed"
    },
    "tags": []
   },
   "outputs": [
    {
     "data": {
      "text/html": [
       "<div>\n",
       "<style scoped>\n",
       "    .dataframe tbody tr th:only-of-type {\n",
       "        vertical-align: middle;\n",
       "    }\n",
       "\n",
       "    .dataframe tbody tr th {\n",
       "        vertical-align: top;\n",
       "    }\n",
       "\n",
       "    .dataframe thead th {\n",
       "        text-align: right;\n",
       "    }\n",
       "</style>\n",
       "<table border=\"1\" class=\"dataframe\">\n",
       "  <thead>\n",
       "    <tr style=\"text-align: right;\">\n",
       "      <th></th>\n",
       "      <th>Name</th>\n",
       "      <th>Sex</th>\n",
       "      <th>Ticket</th>\n",
       "      <th>Cabin</th>\n",
       "      <th>Embarked</th>\n",
       "    </tr>\n",
       "  </thead>\n",
       "  <tbody>\n",
       "    <tr>\n",
       "      <th>0</th>\n",
       "      <td>Braund, Mr. Owen Harris</td>\n",
       "      <td>male</td>\n",
       "      <td>A/5 21171</td>\n",
       "      <td>NaN</td>\n",
       "      <td>S</td>\n",
       "    </tr>\n",
       "    <tr>\n",
       "      <th>1</th>\n",
       "      <td>Cumings, Mrs. John Bradley (Florence Briggs Th...</td>\n",
       "      <td>female</td>\n",
       "      <td>PC 17599</td>\n",
       "      <td>C85</td>\n",
       "      <td>C</td>\n",
       "    </tr>\n",
       "    <tr>\n",
       "      <th>2</th>\n",
       "      <td>Heikkinen, Miss. Laina</td>\n",
       "      <td>female</td>\n",
       "      <td>STON/O2. 3101282</td>\n",
       "      <td>NaN</td>\n",
       "      <td>S</td>\n",
       "    </tr>\n",
       "    <tr>\n",
       "      <th>3</th>\n",
       "      <td>Futrelle, Mrs. Jacques Heath (Lily May Peel)</td>\n",
       "      <td>female</td>\n",
       "      <td>113803</td>\n",
       "      <td>C123</td>\n",
       "      <td>S</td>\n",
       "    </tr>\n",
       "    <tr>\n",
       "      <th>4</th>\n",
       "      <td>Allen, Mr. William Henry</td>\n",
       "      <td>male</td>\n",
       "      <td>373450</td>\n",
       "      <td>NaN</td>\n",
       "      <td>S</td>\n",
       "    </tr>\n",
       "  </tbody>\n",
       "</table>\n",
       "</div>"
      ],
      "text/plain": [
       "                                                Name     Sex  \\\n",
       "0                            Braund, Mr. Owen Harris    male   \n",
       "1  Cumings, Mrs. John Bradley (Florence Briggs Th...  female   \n",
       "2                             Heikkinen, Miss. Laina  female   \n",
       "3       Futrelle, Mrs. Jacques Heath (Lily May Peel)  female   \n",
       "4                           Allen, Mr. William Henry    male   \n",
       "\n",
       "             Ticket Cabin Embarked  \n",
       "0         A/5 21171   NaN        S  \n",
       "1          PC 17599   C85        C  \n",
       "2  STON/O2. 3101282   NaN        S  \n",
       "3            113803  C123        S  \n",
       "4            373450   NaN        S  "
      ]
     },
     "execution_count": 16,
     "metadata": {},
     "output_type": "execute_result"
    }
   ],
   "source": [
    "df_cat.head()"
   ]
  },
  {
   "cell_type": "markdown",
   "metadata": {
    "papermill": {
     "duration": 0.060216,
     "end_time": "2020-12-09T21:48:32.267361",
     "exception": false,
     "start_time": "2020-12-09T21:48:32.207145",
     "status": "completed"
    },
    "tags": []
   },
   "source": [
    "We will focus on the Name and Cabin variables for the moment. \n",
    "\n",
    "The Name column contains the first and last name of the passenger, as well as the honorific  they use, such as Mr or Mrs.This can potentially be useful information so we we write a simple function to extract it.\n",
    "\n",
    "The Cabin column contains information about the cabin where the passenger stayed. It's a letter followed by a number."
   ]
  },
  {
   "cell_type": "code",
   "execution_count": 17,
   "metadata": {
    "execution": {
     "iopub.execute_input": "2020-12-09T21:48:32.396206Z",
     "iopub.status.busy": "2020-12-09T21:48:32.395195Z",
     "iopub.status.idle": "2020-12-09T21:48:32.399116Z",
     "shell.execute_reply": "2020-12-09T21:48:32.399684Z"
    },
    "papermill": {
     "duration": 0.073096,
     "end_time": "2020-12-09T21:48:32.399828",
     "exception": false,
     "start_time": "2020-12-09T21:48:32.326732",
     "status": "completed"
    },
    "tags": []
   },
   "outputs": [
    {
     "data": {
      "text/plain": [
       "B96 B98        4\n",
       "G6             4\n",
       "C23 C25 C27    4\n",
       "E101           3\n",
       "D              3\n",
       "              ..\n",
       "E50            1\n",
       "D30            1\n",
       "B71            1\n",
       "D7             1\n",
       "E36            1\n",
       "Name: Cabin, Length: 147, dtype: int64"
      ]
     },
     "execution_count": 17,
     "metadata": {},
     "output_type": "execute_result"
    }
   ],
   "source": [
    "df_cat['Cabin'].value_counts()"
   ]
  },
  {
   "cell_type": "markdown",
   "metadata": {
    "papermill": {
     "duration": 0.05954,
     "end_time": "2020-12-09T21:48:32.519359",
     "exception": false,
     "start_time": "2020-12-09T21:48:32.459819",
     "status": "completed"
    },
    "tags": []
   },
   "source": [
    "Apparently a passenger can have multiple cabins under their name, possibly for people who traveled together. We will have to adress this with our code. We will also extract just the letter from the cabin which indicates the deck where the passenger was situated."
   ]
  },
  {
   "cell_type": "code",
   "execution_count": 18,
   "metadata": {
    "execution": {
     "iopub.execute_input": "2020-12-09T21:48:32.654154Z",
     "iopub.status.busy": "2020-12-09T21:48:32.653017Z",
     "iopub.status.idle": "2020-12-09T21:48:32.657482Z",
     "shell.execute_reply": "2020-12-09T21:48:32.656792Z"
    },
    "papermill": {
     "duration": 0.078662,
     "end_time": "2020-12-09T21:48:32.657610",
     "exception": false,
     "start_time": "2020-12-09T21:48:32.578948",
     "status": "completed"
    },
    "tags": []
   },
   "outputs": [
    {
     "name": "stderr",
     "output_type": "stream",
     "text": [
      "/opt/conda/lib/python3.7/site-packages/ipykernel_launcher.py:13: SettingWithCopyWarning: \n",
      "A value is trying to be set on a copy of a slice from a DataFrame.\n",
      "Try using .loc[row_indexer,col_indexer] = value instead\n",
      "\n",
      "See the caveats in the documentation: https://pandas.pydata.org/pandas-docs/stable/user_guide/indexing.html#returning-a-view-versus-a-copy\n",
      "  del sys.path[0]\n",
      "/opt/conda/lib/python3.7/site-packages/ipykernel_launcher.py:14: SettingWithCopyWarning: \n",
      "A value is trying to be set on a copy of a slice from a DataFrame.\n",
      "Try using .loc[row_indexer,col_indexer] = value instead\n",
      "\n",
      "See the caveats in the documentation: https://pandas.pydata.org/pandas-docs/stable/user_guide/indexing.html#returning-a-view-versus-a-copy\n",
      "  \n"
     ]
    }
   ],
   "source": [
    "import re\n",
    "\n",
    "def splitter(cols):\n",
    "    return re.split('\\, |\\. ', cols)[1]\n",
    "\n",
    "def remove_digits(col):\n",
    "    for char in col:\n",
    "        if not char.isdigit():\n",
    "            return col[0]\n",
    "        else:\n",
    "            return char\n",
    "        \n",
    "df_cat['title'] = df_cat['Name'].apply(splitter)\n",
    "df_cat['deck'] = df_cat['Cabin'].apply(lambda x : str(x).split(' ')[0]).apply(remove_digits)"
   ]
  },
  {
   "cell_type": "code",
   "execution_count": 19,
   "metadata": {
    "execution": {
     "iopub.execute_input": "2020-12-09T21:48:32.791894Z",
     "iopub.status.busy": "2020-12-09T21:48:32.787059Z",
     "iopub.status.idle": "2020-12-09T21:48:32.796668Z",
     "shell.execute_reply": "2020-12-09T21:48:32.795973Z"
    },
    "papermill": {
     "duration": 0.078402,
     "end_time": "2020-12-09T21:48:32.796790",
     "exception": false,
     "start_time": "2020-12-09T21:48:32.718388",
     "status": "completed"
    },
    "tags": []
   },
   "outputs": [
    {
     "data": {
      "text/html": [
       "<div>\n",
       "<style scoped>\n",
       "    .dataframe tbody tr th:only-of-type {\n",
       "        vertical-align: middle;\n",
       "    }\n",
       "\n",
       "    .dataframe tbody tr th {\n",
       "        vertical-align: top;\n",
       "    }\n",
       "\n",
       "    .dataframe thead th {\n",
       "        text-align: right;\n",
       "    }\n",
       "</style>\n",
       "<table border=\"1\" class=\"dataframe\">\n",
       "  <thead>\n",
       "    <tr style=\"text-align: right;\">\n",
       "      <th></th>\n",
       "      <th>Name</th>\n",
       "      <th>Sex</th>\n",
       "      <th>Ticket</th>\n",
       "      <th>Cabin</th>\n",
       "      <th>Embarked</th>\n",
       "      <th>title</th>\n",
       "      <th>deck</th>\n",
       "    </tr>\n",
       "  </thead>\n",
       "  <tbody>\n",
       "    <tr>\n",
       "      <th>0</th>\n",
       "      <td>Braund, Mr. Owen Harris</td>\n",
       "      <td>male</td>\n",
       "      <td>A/5 21171</td>\n",
       "      <td>NaN</td>\n",
       "      <td>S</td>\n",
       "      <td>Mr</td>\n",
       "      <td>n</td>\n",
       "    </tr>\n",
       "    <tr>\n",
       "      <th>1</th>\n",
       "      <td>Cumings, Mrs. John Bradley (Florence Briggs Th...</td>\n",
       "      <td>female</td>\n",
       "      <td>PC 17599</td>\n",
       "      <td>C85</td>\n",
       "      <td>C</td>\n",
       "      <td>Mrs</td>\n",
       "      <td>C</td>\n",
       "    </tr>\n",
       "    <tr>\n",
       "      <th>2</th>\n",
       "      <td>Heikkinen, Miss. Laina</td>\n",
       "      <td>female</td>\n",
       "      <td>STON/O2. 3101282</td>\n",
       "      <td>NaN</td>\n",
       "      <td>S</td>\n",
       "      <td>Miss</td>\n",
       "      <td>n</td>\n",
       "    </tr>\n",
       "    <tr>\n",
       "      <th>3</th>\n",
       "      <td>Futrelle, Mrs. Jacques Heath (Lily May Peel)</td>\n",
       "      <td>female</td>\n",
       "      <td>113803</td>\n",
       "      <td>C123</td>\n",
       "      <td>S</td>\n",
       "      <td>Mrs</td>\n",
       "      <td>C</td>\n",
       "    </tr>\n",
       "    <tr>\n",
       "      <th>4</th>\n",
       "      <td>Allen, Mr. William Henry</td>\n",
       "      <td>male</td>\n",
       "      <td>373450</td>\n",
       "      <td>NaN</td>\n",
       "      <td>S</td>\n",
       "      <td>Mr</td>\n",
       "      <td>n</td>\n",
       "    </tr>\n",
       "  </tbody>\n",
       "</table>\n",
       "</div>"
      ],
      "text/plain": [
       "                                                Name     Sex  \\\n",
       "0                            Braund, Mr. Owen Harris    male   \n",
       "1  Cumings, Mrs. John Bradley (Florence Briggs Th...  female   \n",
       "2                             Heikkinen, Miss. Laina  female   \n",
       "3       Futrelle, Mrs. Jacques Heath (Lily May Peel)  female   \n",
       "4                           Allen, Mr. William Henry    male   \n",
       "\n",
       "             Ticket Cabin Embarked title deck  \n",
       "0         A/5 21171   NaN        S    Mr    n  \n",
       "1          PC 17599   C85        C   Mrs    C  \n",
       "2  STON/O2. 3101282   NaN        S  Miss    n  \n",
       "3            113803  C123        S   Mrs    C  \n",
       "4            373450   NaN        S    Mr    n  "
      ]
     },
     "execution_count": 19,
     "metadata": {},
     "output_type": "execute_result"
    }
   ],
   "source": [
    "df_cat.head()"
   ]
  },
  {
   "cell_type": "code",
   "execution_count": 20,
   "metadata": {
    "execution": {
     "iopub.execute_input": "2020-12-09T21:48:32.927615Z",
     "iopub.status.busy": "2020-12-09T21:48:32.925804Z",
     "iopub.status.idle": "2020-12-09T21:48:32.931691Z",
     "shell.execute_reply": "2020-12-09T21:48:32.931123Z"
    },
    "papermill": {
     "duration": 0.073695,
     "end_time": "2020-12-09T21:48:32.931809",
     "exception": false,
     "start_time": "2020-12-09T21:48:32.858114",
     "status": "completed"
    },
    "tags": []
   },
   "outputs": [
    {
     "name": "stdout",
     "output_type": "stream",
     "text": [
      "Mr              517\n",
      "Miss            182\n",
      "Mrs             125\n",
      "Master           40\n",
      "Dr                7\n",
      "Rev               6\n",
      "Mlle              2\n",
      "Col               2\n",
      "Major             2\n",
      "Sir               1\n",
      "Ms                1\n",
      "Don               1\n",
      "Mme               1\n",
      "the Countess      1\n",
      "Lady              1\n",
      "Jonkheer          1\n",
      "Capt              1\n",
      "Name: title, dtype: int64 \n",
      " n    687\n",
      "C     59\n",
      "B     47\n",
      "D     33\n",
      "E     32\n",
      "A     15\n",
      "F     13\n",
      "G      4\n",
      "T      1\n",
      "Name: deck, dtype: int64\n"
     ]
    }
   ],
   "source": [
    "print(df_cat['title'].value_counts(), '\\n', df_cat['deck'].value_counts())"
   ]
  },
  {
   "cell_type": "markdown",
   "metadata": {
    "papermill": {
     "duration": 0.060681,
     "end_time": "2020-12-09T21:48:33.053815",
     "exception": false,
     "start_time": "2020-12-09T21:48:32.993134",
     "status": "completed"
    },
    "tags": []
   },
   "source": [
    "The 'n' value in the deck column is by far the most common because of the many null values. We will treat this value as seperate category as the missingness may contain information about the survival of the passenger.\n",
    "\n",
    "As far as the title goes the top four values are quite common honorifics, but there is also a number of unique ones that we will group into a separate value:\n"
   ]
  },
  {
   "cell_type": "code",
   "execution_count": 21,
   "metadata": {
    "execution": {
     "iopub.execute_input": "2020-12-09T21:48:33.186477Z",
     "iopub.status.busy": "2020-12-09T21:48:33.185732Z",
     "iopub.status.idle": "2020-12-09T21:48:33.189863Z",
     "shell.execute_reply": "2020-12-09T21:48:33.190814Z"
    },
    "papermill": {
     "duration": 0.075878,
     "end_time": "2020-12-09T21:48:33.191020",
     "exception": false,
     "start_time": "2020-12-09T21:48:33.115142",
     "status": "completed"
    },
    "tags": []
   },
   "outputs": [
    {
     "name": "stdout",
     "output_type": "stream",
     "text": [
      "Mr        517\n",
      "Miss      182\n",
      "Mrs       125\n",
      "Master     40\n",
      "Other      27\n",
      "Name: title, dtype: int64\n"
     ]
    },
    {
     "name": "stderr",
     "output_type": "stream",
     "text": [
      "/opt/conda/lib/python3.7/site-packages/ipykernel_launcher.py:1: SettingWithCopyWarning: \n",
      "A value is trying to be set on a copy of a slice from a DataFrame.\n",
      "Try using .loc[row_indexer,col_indexer] = value instead\n",
      "\n",
      "See the caveats in the documentation: https://pandas.pydata.org/pandas-docs/stable/user_guide/indexing.html#returning-a-view-versus-a-copy\n",
      "  \"\"\"Entry point for launching an IPython kernel.\n"
     ]
    }
   ],
   "source": [
    "df_cat['title'] = df_cat['title'].apply(lambda x : 'Other' if x not in ['Mr', 'Master', 'Miss', 'Mrs'] else x)\n",
    "\n",
    "print(df_cat['title'].value_counts())"
   ]
  },
  {
   "cell_type": "markdown",
   "metadata": {
    "papermill": {
     "duration": 0.062264,
     "end_time": "2020-12-09T21:48:33.316783",
     "exception": false,
     "start_time": "2020-12-09T21:48:33.254519",
     "status": "completed"
    },
    "tags": []
   },
   "source": [
    "Now let's have a look at some plots for the new variables we've created:"
   ]
  },
  {
   "cell_type": "code",
   "execution_count": 22,
   "metadata": {
    "execution": {
     "iopub.execute_input": "2020-12-09T21:48:33.450220Z",
     "iopub.status.busy": "2020-12-09T21:48:33.449144Z",
     "iopub.status.idle": "2020-12-09T21:48:33.716715Z",
     "shell.execute_reply": "2020-12-09T21:48:33.716029Z"
    },
    "papermill": {
     "duration": 0.337335,
     "end_time": "2020-12-09T21:48:33.716835",
     "exception": false,
     "start_time": "2020-12-09T21:48:33.379500",
     "status": "completed"
    },
    "tags": []
   },
   "outputs": [
    {
     "data": {
      "text/plain": [
       "[]"
      ]
     },
     "execution_count": 22,
     "metadata": {},
     "output_type": "execute_result"
    },
    {
     "data": {
      "image/png": "[encoded data removed]",
      "text/plain": [
       "<Figure size 1008x432 with 1 Axes>"
      ]
     },
     "metadata": {},
     "output_type": "display_data"
    }
   ],
   "source": [
    "dd = pd.concat([df_cat['deck'], df_num['Survived']], axis = 1)\n",
    "plt.figure(figsize =  (14, 6))\n",
    "sns.countplot(x = dd['deck'], hue = dd['Survived'])\n",
    "plt.plot()"
   ]
  },
  {
   "cell_type": "code",
   "execution_count": 23,
   "metadata": {
    "execution": {
     "iopub.execute_input": "2020-12-09T21:48:33.852937Z",
     "iopub.status.busy": "2020-12-09T21:48:33.852119Z",
     "iopub.status.idle": "2020-12-09T21:48:34.125560Z",
     "shell.execute_reply": "2020-12-09T21:48:34.126122Z"
    },
    "papermill": {
     "duration": 0.345697,
     "end_time": "2020-12-09T21:48:34.126302",
     "exception": false,
     "start_time": "2020-12-09T21:48:33.780605",
     "status": "completed"
    },
    "tags": []
   },
   "outputs": [
    {
     "data": {
      "text/plain": [
       "[]"
      ]
     },
     "execution_count": 23,
     "metadata": {},
     "output_type": "execute_result"
    },
    {
     "data": {
      "image/png": "[encoded data removed]",
      "text/plain": [
       "<Figure size 1008x432 with 1 Axes>"
      ]
     },
     "metadata": {},
     "output_type": "display_data"
    }
   ],
   "source": [
    "ddd = pd.concat([dd, df_num['Pclass']], axis = 1)\n",
    "plt.figure(figsize = (14, 6))\n",
    "sns.countplot(x = ddd['deck'], hue = ddd['Pclass'])\n",
    "plt.title(\"Count of Pcalss w.r.t. Deck\")\n",
    "plt.plot()"
   ]
  },
  {
   "cell_type": "code",
   "execution_count": 24,
   "metadata": {
    "execution": {
     "iopub.execute_input": "2020-12-09T21:48:34.266230Z",
     "iopub.status.busy": "2020-12-09T21:48:34.265446Z",
     "iopub.status.idle": "2020-12-09T21:48:34.467709Z",
     "shell.execute_reply": "2020-12-09T21:48:34.467098Z"
    },
    "papermill": {
     "duration": 0.275211,
     "end_time": "2020-12-09T21:48:34.467852",
     "exception": false,
     "start_time": "2020-12-09T21:48:34.192641",
     "status": "completed"
    },
    "tags": []
   },
   "outputs": [
    {
     "data": {
      "text/plain": [
       "[]"
      ]
     },
     "execution_count": 24,
     "metadata": {},
     "output_type": "execute_result"
    },
    {
     "data": {
      "image/png": "[encoded data removed]",
      "text/plain": [
       "<Figure size 1008x432 with 1 Axes>"
      ]
     },
     "metadata": {},
     "output_type": "display_data"
    }
   ],
   "source": [
    "dfd = pd.concat([df_cat['title'], df_num['Survived']], axis = 1)\n",
    "plt.figure(figsize = (14, 6))\n",
    "sns.countplot(x = dfd['title'], hue = dfd['Survived'])\n",
    "plt.title(\"Survived/Not Survived w.r.t. Title\")\n",
    "plt.plot()"
   ]
  },
  {
   "cell_type": "markdown",
   "metadata": {
    "papermill": {
     "duration": 0.065404,
     "end_time": "2020-12-09T21:48:34.599439",
     "exception": false,
     "start_time": "2020-12-09T21:48:34.534035",
     "status": "completed"
    },
    "tags": []
   },
   "source": [
    "The passengers with female titles are more likely to survive, something to be expected based on the survival rate that we observed earlier. The title 'Master' was given to male children, which also explains the higher survival rate, based on our earlier observations.\n",
    "\n",
    "As far as the deck is concerned, for most of the values the survival rate is over 50%. Moreover the first decks are mostly populated by 1st class passengers, while the last decks are mostly populated by 3rd class passengers. We're going to group the decks based on the Pclass distribution:"
   ]
  },
  {
   "cell_type": "code",
   "execution_count": 25,
   "metadata": {
    "execution": {
     "iopub.execute_input": "2020-12-09T21:48:34.740450Z",
     "iopub.status.busy": "2020-12-09T21:48:34.739597Z",
     "iopub.status.idle": "2020-12-09T21:48:34.742742Z",
     "shell.execute_reply": "2020-12-09T21:48:34.743279Z"
    },
    "papermill": {
     "duration": 0.077107,
     "end_time": "2020-12-09T21:48:34.743421",
     "exception": false,
     "start_time": "2020-12-09T21:48:34.666314",
     "status": "completed"
    },
    "tags": []
   },
   "outputs": [
    {
     "name": "stderr",
     "output_type": "stream",
     "text": [
      "/opt/conda/lib/python3.7/site-packages/ipykernel_launcher.py:1: SettingWithCopyWarning: \n",
      "A value is trying to be set on a copy of a slice from a DataFrame.\n",
      "Try using .loc[row_indexer,col_indexer] = value instead\n",
      "\n",
      "See the caveats in the documentation: https://pandas.pydata.org/pandas-docs/stable/user_guide/indexing.html#returning-a-view-versus-a-copy\n",
      "  \"\"\"Entry point for launching an IPython kernel.\n"
     ]
    }
   ],
   "source": [
    "df_cat['deck'] = df_cat['deck'].map({'A':'ABC','B':'ABC','C':'ABC','D':'DE','E':'DE','F':'FG','G':'FG','n':'U','T':'U'})"
   ]
  },
  {
   "cell_type": "code",
   "execution_count": 26,
   "metadata": {
    "execution": {
     "iopub.execute_input": "2020-12-09T21:48:34.884883Z",
     "iopub.status.busy": "2020-12-09T21:48:34.883845Z",
     "iopub.status.idle": "2020-12-09T21:48:35.072577Z",
     "shell.execute_reply": "2020-12-09T21:48:35.072009Z"
    },
    "papermill": {
     "duration": 0.263068,
     "end_time": "2020-12-09T21:48:35.072704",
     "exception": false,
     "start_time": "2020-12-09T21:48:34.809636",
     "status": "completed"
    },
    "tags": []
   },
   "outputs": [
    {
     "data": {
      "text/plain": [
       "[]"
      ]
     },
     "execution_count": 26,
     "metadata": {},
     "output_type": "execute_result"
    },
    {
     "data": {
      "image/png": "[encoded data removed]",
      "text/plain": [
       "<Figure size 1008x432 with 1 Axes>"
      ]
     },
     "metadata": {},
     "output_type": "display_data"
    }
   ],
   "source": [
    "dd = pd.concat([df_cat['deck'],df_num['Survived']],axis=1)\n",
    "plt.figure(figsize=(14,6))\n",
    "sns.countplot(x=dd['deck'], hue=dd['Survived'])\n",
    "plt.plot()"
   ]
  },
  {
   "cell_type": "markdown",
   "metadata": {
    "papermill": {
     "duration": 0.06887,
     "end_time": "2020-12-09T21:48:35.210391",
     "exception": false,
     "start_time": "2020-12-09T21:48:35.141521",
     "status": "completed"
    },
    "tags": []
   },
   "source": [
    "As far as the numeric columns are concerned, we can combine the SibSp and Parch columns in order to make a new feature which indicates whether the passenger is traveling alone or with company."
   ]
  },
  {
   "cell_type": "code",
   "execution_count": 27,
   "metadata": {
    "execution": {
     "iopub.execute_input": "2020-12-09T21:48:35.354183Z",
     "iopub.status.busy": "2020-12-09T21:48:35.353491Z",
     "iopub.status.idle": "2020-12-09T21:48:35.357356Z",
     "shell.execute_reply": "2020-12-09T21:48:35.357899Z"
    },
    "papermill": {
     "duration": 0.079926,
     "end_time": "2020-12-09T21:48:35.358047",
     "exception": false,
     "start_time": "2020-12-09T21:48:35.278121",
     "status": "completed"
    },
    "tags": []
   },
   "outputs": [
    {
     "name": "stderr",
     "output_type": "stream",
     "text": [
      "/opt/conda/lib/python3.7/site-packages/ipykernel_launcher.py:1: SettingWithCopyWarning: \n",
      "A value is trying to be set on a copy of a slice from a DataFrame.\n",
      "Try using .loc[row_indexer,col_indexer] = value instead\n",
      "\n",
      "See the caveats in the documentation: https://pandas.pydata.org/pandas-docs/stable/user_guide/indexing.html#returning-a-view-versus-a-copy\n",
      "  \"\"\"Entry point for launching an IPython kernel.\n"
     ]
    }
   ],
   "source": [
    "df_num['alone'] = (df['SibSp'] + df['Parch']).apply(lambda x : 1 if x == 0 else 0)"
   ]
  },
  {
   "cell_type": "code",
   "execution_count": 28,
   "metadata": {
    "execution": {
     "iopub.execute_input": "2020-12-09T21:48:35.503897Z",
     "iopub.status.busy": "2020-12-09T21:48:35.503146Z",
     "iopub.status.idle": "2020-12-09T21:48:35.676960Z",
     "shell.execute_reply": "2020-12-09T21:48:35.676309Z"
    },
    "papermill": {
     "duration": 0.249779,
     "end_time": "2020-12-09T21:48:35.677109",
     "exception": false,
     "start_time": "2020-12-09T21:48:35.427330",
     "status": "completed"
    },
    "tags": []
   },
   "outputs": [
    {
     "data": {
      "text/plain": [
       "[]"
      ]
     },
     "execution_count": 28,
     "metadata": {},
     "output_type": "execute_result"
    },
    {
     "data": {
      "image/png": "[encoded data removed]",
      "text/plain": [
       "<Figure size 1008x432 with 1 Axes>"
      ]
     },
     "metadata": {},
     "output_type": "display_data"
    }
   ],
   "source": [
    "plt.figure(figsize = (14, 6))\n",
    "sns.countplot(x =  df_num['alone'], hue = df_num['Survived'])\n",
    "plt.title(\"Survived/Not Survived while being alone/not alone\")\n",
    "plt.plot()"
   ]
  },
  {
   "cell_type": "markdown",
   "metadata": {
    "papermill": {
     "duration": 0.069225,
     "end_time": "2020-12-09T21:48:35.815830",
     "exception": false,
     "start_time": "2020-12-09T21:48:35.746605",
     "status": "completed"
    },
    "tags": []
   },
   "source": [
    "It appears there is a slighty higher chance of survival for passengers who were traveling with company."
   ]
  },
  {
   "cell_type": "markdown",
   "metadata": {
    "papermill": {
     "duration": 0.076406,
     "end_time": "2020-12-09T21:48:35.965218",
     "exception": false,
     "start_time": "2020-12-09T21:48:35.888812",
     "status": "completed"
    },
    "tags": []
   },
   "source": [
    "Another transformation we can do is bin the Age and Fare data. We will first bin the Fare data since the Age data contains missing values. We will then impute the Age data and bin them too.\n",
    "\n",
    "There are a lot of options for the number of bins we can choose, here we will try a 10-bin and 15-bin split:"
   ]
  },
  {
   "cell_type": "code",
   "execution_count": 29,
   "metadata": {
    "execution": {
     "iopub.execute_input": "2020-12-09T21:48:36.114349Z",
     "iopub.status.busy": "2020-12-09T21:48:36.110347Z",
     "iopub.status.idle": "2020-12-09T21:48:36.121505Z",
     "shell.execute_reply": "2020-12-09T21:48:36.122240Z"
    },
    "papermill": {
     "duration": 0.088286,
     "end_time": "2020-12-09T21:48:36.122436",
     "exception": false,
     "start_time": "2020-12-09T21:48:36.034150",
     "status": "completed"
    },
    "tags": []
   },
   "outputs": [
    {
     "name": "stderr",
     "output_type": "stream",
     "text": [
      "/opt/conda/lib/python3.7/site-packages/ipykernel_launcher.py:1: SettingWithCopyWarning: \n",
      "A value is trying to be set on a copy of a slice from a DataFrame.\n",
      "Try using .loc[row_indexer,col_indexer] = value instead\n",
      "\n",
      "See the caveats in the documentation: https://pandas.pydata.org/pandas-docs/stable/user_guide/indexing.html#returning-a-view-versus-a-copy\n",
      "  \"\"\"Entry point for launching an IPython kernel.\n",
      "/opt/conda/lib/python3.7/site-packages/ipykernel_launcher.py:2: SettingWithCopyWarning: \n",
      "A value is trying to be set on a copy of a slice from a DataFrame.\n",
      "Try using .loc[row_indexer,col_indexer] = value instead\n",
      "\n",
      "See the caveats in the documentation: https://pandas.pydata.org/pandas-docs/stable/user_guide/indexing.html#returning-a-view-versus-a-copy\n",
      "  \n"
     ]
    }
   ],
   "source": [
    "df_num['fare_bins_10'] = pd.qcut(x = df_num['Fare'], q = 10, labels = [1, 2, 3, 4, 5, 6, 7, 8, 9, 10], duplicates = 'drop')\n",
    "df_num['fare_bins_15'] = pd.qcut(x = df_num['Fare'], q = 15, labels = [1, 2, 3, 4, 5, 6, 7, 8, 9, 10, 11, 12, 13, 14, 15], duplicates = 'drop')"
   ]
  },
  {
   "cell_type": "code",
   "execution_count": 30,
   "metadata": {
    "execution": {
     "iopub.execute_input": "2020-12-09T21:48:36.271728Z",
     "iopub.status.busy": "2020-12-09T21:48:36.271045Z",
     "iopub.status.idle": "2020-12-09T21:48:36.530662Z",
     "shell.execute_reply": "2020-12-09T21:48:36.530061Z"
    },
    "papermill": {
     "duration": 0.336306,
     "end_time": "2020-12-09T21:48:36.530780",
     "exception": false,
     "start_time": "2020-12-09T21:48:36.194474",
     "status": "completed"
    },
    "tags": []
   },
   "outputs": [
    {
     "data": {
      "text/plain": [
       "[]"
      ]
     },
     "execution_count": 30,
     "metadata": {},
     "output_type": "execute_result"
    },
    {
     "data": {
      "image/png": "[encoded data removed]",
      "text/plain": [
       "<Figure size 1008x432 with 1 Axes>"
      ]
     },
     "metadata": {},
     "output_type": "display_data"
    }
   ],
   "source": [
    "plt.figure(figsize = (14, 6))\n",
    "sns.countplot(x = df_num['fare_bins_10'], hue = df_num['Survived'])\n",
    "plt.plot()"
   ]
  },
  {
   "cell_type": "code",
   "execution_count": 31,
   "metadata": {
    "execution": {
     "iopub.execute_input": "2020-12-09T21:48:36.679113Z",
     "iopub.status.busy": "2020-12-09T21:48:36.677562Z",
     "iopub.status.idle": "2020-12-09T21:48:37.003440Z",
     "shell.execute_reply": "2020-12-09T21:48:37.002886Z"
    },
    "papermill": {
     "duration": 0.402421,
     "end_time": "2020-12-09T21:48:37.003574",
     "exception": false,
     "start_time": "2020-12-09T21:48:36.601153",
     "status": "completed"
    },
    "tags": []
   },
   "outputs": [
    {
     "data": {
      "text/plain": [
       "[]"
      ]
     },
     "execution_count": 31,
     "metadata": {},
     "output_type": "execute_result"
    },
    {
     "data": {
      "image/png": "[encoded data removed]",
      "text/plain": [
       "<Figure size 1008x432 with 1 Axes>"
      ]
     },
     "metadata": {},
     "output_type": "display_data"
    }
   ],
   "source": [
    "plt.figure(figsize = (14, 6))\n",
    "sns.countplot(x = df_num['fare_bins_15'], hue = df_num['Survived'])\n",
    "plt.plot()"
   ]
  },
  {
   "cell_type": "markdown",
   "metadata": {
    "papermill": {
     "duration": 0.071476,
     "end_time": "2020-12-09T21:48:37.147055",
     "exception": false,
     "start_time": "2020-12-09T21:48:37.075579",
     "status": "completed"
    },
    "tags": []
   },
   "source": [
    "We'll pick the 10-bin split."
   ]
  },
  {
   "cell_type": "markdown",
   "metadata": {
    "papermill": {
     "duration": 0.071421,
     "end_time": "2020-12-09T21:48:37.290558",
     "exception": false,
     "start_time": "2020-12-09T21:48:37.219137",
     "status": "completed"
    },
    "tags": []
   },
   "source": [
    "At this point we can start preparing the data for modeling by filling any missing values and creating dummy variables "
   ]
  },
  {
   "cell_type": "markdown",
   "metadata": {
    "papermill": {
     "duration": 0.07191,
     "end_time": "2020-12-09T21:48:37.434964",
     "exception": false,
     "start_time": "2020-12-09T21:48:37.363054",
     "status": "completed"
    },
    "tags": []
   },
   "source": [
    "Here, we will fill the missing values using the median age of the passengers based on their title. Since we know that 'Master' corresponds to young male children, perhaps we'll get a more accurate imputation of data this way. Another option would be to impute the median based on Pclass, which is the most highly correlated feature with Age. "
   ]
  },
  {
   "cell_type": "markdown",
   "metadata": {
    "papermill": {
     "duration": 0.071189,
     "end_time": "2020-12-09T21:48:37.578014",
     "exception": false,
     "start_time": "2020-12-09T21:48:37.506825",
     "status": "completed"
    },
    "tags": []
   },
   "source": [
    "First, let's write a function to impute the data:"
   ]
  },
  {
   "cell_type": "code",
   "execution_count": 32,
   "metadata": {
    "execution": {
     "iopub.execute_input": "2020-12-09T21:48:37.729543Z",
     "iopub.status.busy": "2020-12-09T21:48:37.726956Z",
     "iopub.status.idle": "2020-12-09T21:48:37.732861Z",
     "shell.execute_reply": "2020-12-09T21:48:37.732206Z"
    },
    "papermill": {
     "duration": 0.082891,
     "end_time": "2020-12-09T21:48:37.732973",
     "exception": false,
     "start_time": "2020-12-09T21:48:37.650082",
     "status": "completed"
    },
    "tags": []
   },
   "outputs": [],
   "source": [
    "df_new = pd.concat([df_num, df_cat], axis = 1)"
   ]
  },
  {
   "cell_type": "code",
   "execution_count": 33,
   "metadata": {
    "execution": {
     "iopub.execute_input": "2020-12-09T21:48:37.886344Z",
     "iopub.status.busy": "2020-12-09T21:48:37.885498Z",
     "iopub.status.idle": "2020-12-09T21:48:37.888990Z",
     "shell.execute_reply": "2020-12-09T21:48:37.889593Z"
    },
    "papermill": {
     "duration": 0.084825,
     "end_time": "2020-12-09T21:48:37.889740",
     "exception": false,
     "start_time": "2020-12-09T21:48:37.804915",
     "status": "completed"
    },
    "tags": []
   },
   "outputs": [],
   "source": [
    "def imp(cols):\n",
    "    age = cols[0]\n",
    "    title = cols[1]\n",
    "    \n",
    "    master = df_new[df_new['title'] == 'Master']['Age'].median()\n",
    "    mr = df_new[df_new['title'] == 'Mr']['Age'].median()\n",
    "    miss = df_new[df_new['title'] == 'Miss']['Age'].median()\n",
    "    mrs = df_new[df_new['title'] == 'Mrs']['Age'].median()\n",
    "    other = df_new[df_new['title'] == 'Other']['Age'].median()\n",
    "    \n",
    "    if pd.isnull(age):\n",
    "        if title == 'Master':\n",
    "            return master\n",
    "        elif title == 'Mr':\n",
    "            return mr\n",
    "        elif title == 'Mrs':\n",
    "            return mrs\n",
    "        elif title == 'Miss':\n",
    "            return miss\n",
    "        else:\n",
    "            return other\n",
    "    \n",
    "    else:\n",
    "        return age"
   ]
  },
  {
   "cell_type": "code",
   "execution_count": 34,
   "metadata": {
    "execution": {
     "iopub.execute_input": "2020-12-09T21:48:38.041981Z",
     "iopub.status.busy": "2020-12-09T21:48:38.041240Z",
     "iopub.status.idle": "2020-12-09T21:48:42.380110Z",
     "shell.execute_reply": "2020-12-09T21:48:42.380659Z"
    },
    "papermill": {
     "duration": 4.419188,
     "end_time": "2020-12-09T21:48:42.380822",
     "exception": false,
     "start_time": "2020-12-09T21:48:37.961634",
     "status": "completed"
    },
    "tags": []
   },
   "outputs": [],
   "source": [
    "df_new['age_imp'] = df_new[['Age', 'title']].apply(imp, axis = 1)"
   ]
  },
  {
   "cell_type": "markdown",
   "metadata": {
    "papermill": {
     "duration": 0.071906,
     "end_time": "2020-12-09T21:48:42.525633",
     "exception": false,
     "start_time": "2020-12-09T21:48:42.453727",
     "status": "completed"
    },
    "tags": []
   },
   "source": [
    "Now we bin the age data using 10 bins:"
   ]
  },
  {
   "cell_type": "code",
   "execution_count": 35,
   "metadata": {
    "execution": {
     "iopub.execute_input": "2020-12-09T21:48:42.677522Z",
     "iopub.status.busy": "2020-12-09T21:48:42.676787Z",
     "iopub.status.idle": "2020-12-09T21:48:42.683627Z",
     "shell.execute_reply": "2020-12-09T21:48:42.683042Z"
    },
    "papermill": {
     "duration": 0.086264,
     "end_time": "2020-12-09T21:48:42.683753",
     "exception": false,
     "start_time": "2020-12-09T21:48:42.597489",
     "status": "completed"
    },
    "tags": []
   },
   "outputs": [],
   "source": [
    "df_new['age_bins_15'] = pd.qcut(x = df_new['age_imp'],\n",
    "                                 q = 10,\n",
    "                                 labels = [1, 2, 3, 4, 5, 6, 7, 8, 9],\n",
    "                                 duplicates = 'drop')"
   ]
  },
  {
   "cell_type": "code",
   "execution_count": 36,
   "metadata": {
    "execution": {
     "iopub.execute_input": "2020-12-09T21:48:42.836693Z",
     "iopub.status.busy": "2020-12-09T21:48:42.835942Z",
     "iopub.status.idle": "2020-12-09T21:48:43.091136Z",
     "shell.execute_reply": "2020-12-09T21:48:43.090546Z"
    },
    "papermill": {
     "duration": 0.335306,
     "end_time": "2020-12-09T21:48:43.091282",
     "exception": false,
     "start_time": "2020-12-09T21:48:42.755976",
     "status": "completed"
    },
    "tags": []
   },
   "outputs": [
    {
     "data": {
      "text/plain": [
       "[]"
      ]
     },
     "execution_count": 36,
     "metadata": {},
     "output_type": "execute_result"
    },
    {
     "data": {
      "image/png": "[encoded data removed]",
      "text/plain": [
       "<Figure size 1008x432 with 1 Axes>"
      ]
     },
     "metadata": {},
     "output_type": "display_data"
    }
   ],
   "source": [
    "plt.figure(figsize = (14, 6))\n",
    "sns.countplot(x = df_new['age_bins_15'], hue = df_new['Survived'])\n",
    "plt.plot()"
   ]
  },
  {
   "cell_type": "code",
   "execution_count": 37,
   "metadata": {
    "execution": {
     "iopub.execute_input": "2020-12-09T21:48:43.252834Z",
     "iopub.status.busy": "2020-12-09T21:48:43.248297Z",
     "iopub.status.idle": "2020-12-09T21:48:43.261450Z",
     "shell.execute_reply": "2020-12-09T21:48:43.260873Z"
    },
    "papermill": {
     "duration": 0.094992,
     "end_time": "2020-12-09T21:48:43.261569",
     "exception": false,
     "start_time": "2020-12-09T21:48:43.166577",
     "status": "completed"
    },
    "tags": []
   },
   "outputs": [
    {
     "name": "stdout",
     "output_type": "stream",
     "text": [
      "<class 'pandas.core.frame.DataFrame'>\n",
      "RangeIndex: 891 entries, 0 to 890\n",
      "Data columns (total 19 columns):\n",
      " #   Column        Non-Null Count  Dtype   \n",
      "---  ------        --------------  -----   \n",
      " 0   PassengerId   891 non-null    int64   \n",
      " 1   Survived      891 non-null    int64   \n",
      " 2   Pclass        891 non-null    int64   \n",
      " 3   Age           714 non-null    float64 \n",
      " 4   SibSp         891 non-null    int64   \n",
      " 5   Parch         891 non-null    int64   \n",
      " 6   Fare          891 non-null    float64 \n",
      " 7   alone         891 non-null    int64   \n",
      " 8   fare_bins_10  891 non-null    category\n",
      " 9   fare_bins_15  891 non-null    category\n",
      " 10  Name          891 non-null    object  \n",
      " 11  Sex           891 non-null    object  \n",
      " 12  Ticket        891 non-null    object  \n",
      " 13  Cabin         204 non-null    object  \n",
      " 14  Embarked      889 non-null    object  \n",
      " 15  title         891 non-null    object  \n",
      " 16  deck          891 non-null    object  \n",
      " 17  age_imp       891 non-null    float64 \n",
      " 18  age_bins_15   891 non-null    category\n",
      "dtypes: category(3), float64(3), int64(6), object(7)\n",
      "memory usage: 115.6+ KB\n"
     ]
    }
   ],
   "source": [
    "df_new.info()"
   ]
  },
  {
   "cell_type": "markdown",
   "metadata": {
    "papermill": {
     "duration": 0.07392,
     "end_time": "2020-12-09T21:48:43.410327",
     "exception": false,
     "start_time": "2020-12-09T21:48:43.336407",
     "status": "completed"
    },
    "tags": []
   },
   "source": [
    "The Embarked column contains 2 null values so we will fill them with the most common value (S)."
   ]
  },
  {
   "cell_type": "code",
   "execution_count": 38,
   "metadata": {
    "execution": {
     "iopub.execute_input": "2020-12-09T21:48:43.580598Z",
     "iopub.status.busy": "2020-12-09T21:48:43.579487Z",
     "iopub.status.idle": "2020-12-09T21:48:43.583889Z",
     "shell.execute_reply": "2020-12-09T21:48:43.583346Z"
    },
    "papermill": {
     "duration": 0.099621,
     "end_time": "2020-12-09T21:48:43.584023",
     "exception": false,
     "start_time": "2020-12-09T21:48:43.484402",
     "status": "completed"
    },
    "tags": []
   },
   "outputs": [
    {
     "data": {
      "text/html": [
       "<div>\n",
       "<style scoped>\n",
       "    .dataframe tbody tr th:only-of-type {\n",
       "        vertical-align: middle;\n",
       "    }\n",
       "\n",
       "    .dataframe tbody tr th {\n",
       "        vertical-align: top;\n",
       "    }\n",
       "\n",
       "    .dataframe thead th {\n",
       "        text-align: right;\n",
       "    }\n",
       "</style>\n",
       "<table border=\"1\" class=\"dataframe\">\n",
       "  <thead>\n",
       "    <tr style=\"text-align: right;\">\n",
       "      <th></th>\n",
       "      <th>PassengerId</th>\n",
       "      <th>Survived</th>\n",
       "      <th>Pclass</th>\n",
       "      <th>Age</th>\n",
       "      <th>SibSp</th>\n",
       "      <th>Parch</th>\n",
       "      <th>Fare</th>\n",
       "      <th>alone</th>\n",
       "      <th>fare_bins_10</th>\n",
       "      <th>fare_bins_15</th>\n",
       "      <th>Name</th>\n",
       "      <th>Sex</th>\n",
       "      <th>Ticket</th>\n",
       "      <th>Cabin</th>\n",
       "      <th>Embarked</th>\n",
       "      <th>title</th>\n",
       "      <th>deck</th>\n",
       "      <th>age_imp</th>\n",
       "      <th>age_bins_15</th>\n",
       "    </tr>\n",
       "  </thead>\n",
       "  <tbody>\n",
       "    <tr>\n",
       "      <th>61</th>\n",
       "      <td>62</td>\n",
       "      <td>1</td>\n",
       "      <td>1</td>\n",
       "      <td>38.0</td>\n",
       "      <td>0</td>\n",
       "      <td>0</td>\n",
       "      <td>80.0</td>\n",
       "      <td>1</td>\n",
       "      <td>10</td>\n",
       "      <td>14</td>\n",
       "      <td>Icard, Miss. Amelie</td>\n",
       "      <td>female</td>\n",
       "      <td>113572</td>\n",
       "      <td>B28</td>\n",
       "      <td>NaN</td>\n",
       "      <td>Miss</td>\n",
       "      <td>ABC</td>\n",
       "      <td>38.0</td>\n",
       "      <td>7</td>\n",
       "    </tr>\n",
       "    <tr>\n",
       "      <th>829</th>\n",
       "      <td>830</td>\n",
       "      <td>1</td>\n",
       "      <td>1</td>\n",
       "      <td>62.0</td>\n",
       "      <td>0</td>\n",
       "      <td>0</td>\n",
       "      <td>80.0</td>\n",
       "      <td>1</td>\n",
       "      <td>10</td>\n",
       "      <td>14</td>\n",
       "      <td>Stone, Mrs. George Nelson (Martha Evelyn)</td>\n",
       "      <td>female</td>\n",
       "      <td>113572</td>\n",
       "      <td>B28</td>\n",
       "      <td>NaN</td>\n",
       "      <td>Mrs</td>\n",
       "      <td>ABC</td>\n",
       "      <td>62.0</td>\n",
       "      <td>9</td>\n",
       "    </tr>\n",
       "  </tbody>\n",
       "</table>\n",
       "</div>"
      ],
      "text/plain": [
       "     PassengerId  Survived  Pclass   Age  SibSp  Parch  Fare  alone  \\\n",
       "61            62         1       1  38.0      0      0  80.0      1   \n",
       "829          830         1       1  62.0      0      0  80.0      1   \n",
       "\n",
       "    fare_bins_10 fare_bins_15                                       Name  \\\n",
       "61            10           14                        Icard, Miss. Amelie   \n",
       "829           10           14  Stone, Mrs. George Nelson (Martha Evelyn)   \n",
       "\n",
       "        Sex  Ticket Cabin Embarked title deck  age_imp age_bins_15  \n",
       "61   female  113572   B28      NaN  Miss  ABC     38.0           7  \n",
       "829  female  113572   B28      NaN   Mrs  ABC     62.0           9  "
      ]
     },
     "execution_count": 38,
     "metadata": {},
     "output_type": "execute_result"
    }
   ],
   "source": [
    "df_new[df_new['Embarked'].isnull()]"
   ]
  },
  {
   "cell_type": "code",
   "execution_count": 39,
   "metadata": {
    "execution": {
     "iopub.execute_input": "2020-12-09T21:48:43.743917Z",
     "iopub.status.busy": "2020-12-09T21:48:43.743047Z",
     "iopub.status.idle": "2020-12-09T21:48:43.746004Z",
     "shell.execute_reply": "2020-12-09T21:48:43.745363Z"
    },
    "papermill": {
     "duration": 0.085863,
     "end_time": "2020-12-09T21:48:43.746130",
     "exception": false,
     "start_time": "2020-12-09T21:48:43.660267",
     "status": "completed"
    },
    "tags": []
   },
   "outputs": [],
   "source": [
    "df_new.loc[81,'Embarked'] = 'S'\n",
    "df_new.loc[829,'Embarked'] = 'S'"
   ]
  },
  {
   "cell_type": "markdown",
   "metadata": {
    "papermill": {
     "duration": 0.074935,
     "end_time": "2020-12-09T21:48:43.896029",
     "exception": false,
     "start_time": "2020-12-09T21:48:43.821094",
     "status": "completed"
    },
    "tags": []
   },
   "source": [
    "Finally, we'll create dummy variables for Sex, title, deck and Embarked and create a new dataframe containing our final set of features:"
   ]
  },
  {
   "cell_type": "code",
   "execution_count": 40,
   "metadata": {
    "execution": {
     "iopub.execute_input": "2020-12-09T21:48:44.054233Z",
     "iopub.status.busy": "2020-12-09T21:48:44.053394Z",
     "iopub.status.idle": "2020-12-09T21:48:44.060711Z",
     "shell.execute_reply": "2020-12-09T21:48:44.060042Z"
    },
    "papermill": {
     "duration": 0.090098,
     "end_time": "2020-12-09T21:48:44.060827",
     "exception": false,
     "start_time": "2020-12-09T21:48:43.970729",
     "status": "completed"
    },
    "tags": []
   },
   "outputs": [],
   "source": [
    "dummies = pd.get_dummies(df_new[['Embarked',  'Sex', 'title', 'deck']], drop_first = True)"
   ]
  },
  {
   "cell_type": "code",
   "execution_count": 41,
   "metadata": {
    "execution": {
     "iopub.execute_input": "2020-12-09T21:48:44.228333Z",
     "iopub.status.busy": "2020-12-09T21:48:44.227338Z",
     "iopub.status.idle": "2020-12-09T21:48:44.232152Z",
     "shell.execute_reply": "2020-12-09T21:48:44.231458Z"
    },
    "papermill": {
     "duration": 0.090024,
     "end_time": "2020-12-09T21:48:44.232319",
     "exception": false,
     "start_time": "2020-12-09T21:48:44.142295",
     "status": "completed"
    },
    "tags": []
   },
   "outputs": [],
   "source": [
    "df_final = pd.concat([df_new, dummies], axis = 1).drop(\n",
    "    ['PassengerId', 'Age', 'SibSp', 'Parch', 'Fare', 'fare_bins_15', 'Name', 'Sex', 'Ticket', 'Cabin', 'Embarked', 'title', 'age_imp', 'deck'], axis = 1)"
   ]
  },
  {
   "cell_type": "code",
   "execution_count": 42,
   "metadata": {
    "execution": {
     "iopub.execute_input": "2020-12-09T21:48:44.389361Z",
     "iopub.status.busy": "2020-12-09T21:48:44.388683Z",
     "iopub.status.idle": "2020-12-09T21:48:44.400777Z",
     "shell.execute_reply": "2020-12-09T21:48:44.400079Z"
    },
    "papermill": {
     "duration": 0.093086,
     "end_time": "2020-12-09T21:48:44.400893",
     "exception": false,
     "start_time": "2020-12-09T21:48:44.307807",
     "status": "completed"
    },
    "tags": []
   },
   "outputs": [
    {
     "name": "stdout",
     "output_type": "stream",
     "text": [
      "<class 'pandas.core.frame.DataFrame'>\n",
      "RangeIndex: 891 entries, 0 to 890\n",
      "Data columns (total 15 columns):\n",
      " #   Column        Non-Null Count  Dtype   \n",
      "---  ------        --------------  -----   \n",
      " 0   Survived      891 non-null    int64   \n",
      " 1   Pclass        891 non-null    int64   \n",
      " 2   alone         891 non-null    int64   \n",
      " 3   fare_bins_10  891 non-null    category\n",
      " 4   age_bins_15   891 non-null    category\n",
      " 5   Embarked_Q    891 non-null    uint8   \n",
      " 6   Embarked_S    891 non-null    uint8   \n",
      " 7   Sex_male      891 non-null    uint8   \n",
      " 8   title_Miss    891 non-null    uint8   \n",
      " 9   title_Mr      891 non-null    uint8   \n",
      " 10  title_Mrs     891 non-null    uint8   \n",
      " 11  title_Other   891 non-null    uint8   \n",
      " 12  deck_DE       891 non-null    uint8   \n",
      " 13  deck_FG       891 non-null    uint8   \n",
      " 14  deck_U        891 non-null    uint8   \n",
      "dtypes: category(2), int64(3), uint8(10)\n",
      "memory usage: 32.2 KB\n"
     ]
    }
   ],
   "source": [
    "df_final.info()"
   ]
  },
  {
   "cell_type": "markdown",
   "metadata": {
    "papermill": {
     "duration": 0.074883,
     "end_time": "2020-12-09T21:48:44.551886",
     "exception": false,
     "start_time": "2020-12-09T21:48:44.477003",
     "status": "completed"
    },
    "tags": []
   },
   "source": [
    "## Models\n",
    "\n",
    "Now comes the time to train our classifiers. We'll use 10-fold cross-validation.\n",
    "\n",
    "We'll use 4 classifiers and aggregate their predictions with a voting classifier."
   ]
  },
  {
   "cell_type": "code",
   "execution_count": 43,
   "metadata": {
    "execution": {
     "iopub.execute_input": "2020-12-09T21:48:44.713079Z",
     "iopub.status.busy": "2020-12-09T21:48:44.712303Z",
     "iopub.status.idle": "2020-12-09T21:48:45.041790Z",
     "shell.execute_reply": "2020-12-09T21:48:45.041039Z"
    },
    "papermill": {
     "duration": 0.412513,
     "end_time": "2020-12-09T21:48:45.041910",
     "exception": false,
     "start_time": "2020-12-09T21:48:44.629397",
     "status": "completed"
    },
    "tags": []
   },
   "outputs": [],
   "source": [
    "from sklearn.linear_model import LogisticRegression\n",
    "from sklearn.neighbors import KNeighborsClassifier\n",
    "from sklearn.ensemble import RandomForestClassifier\n",
    "from sklearn.svm import SVC\n",
    "from sklearn.ensemble import VotingClassifier\n",
    "from sklearn.metrics import classification_report,confusion_matrix\n",
    "from sklearn.model_selection import cross_val_score"
   ]
  },
  {
   "cell_type": "code",
   "execution_count": 44,
   "metadata": {
    "execution": {
     "iopub.execute_input": "2020-12-09T21:48:45.200786Z",
     "iopub.status.busy": "2020-12-09T21:48:45.199989Z",
     "iopub.status.idle": "2020-12-09T21:48:45.203612Z",
     "shell.execute_reply": "2020-12-09T21:48:45.203081Z"
    },
    "papermill": {
     "duration": 0.086171,
     "end_time": "2020-12-09T21:48:45.203728",
     "exception": false,
     "start_time": "2020-12-09T21:48:45.117557",
     "status": "completed"
    },
    "tags": []
   },
   "outputs": [],
   "source": [
    "x = df_final.drop('Survived', axis = 1)\n",
    "y = df_final['Survived']"
   ]
  },
  {
   "cell_type": "code",
   "execution_count": 45,
   "metadata": {
    "execution": {
     "iopub.execute_input": "2020-12-09T21:48:45.362727Z",
     "iopub.status.busy": "2020-12-09T21:48:45.361954Z",
     "iopub.status.idle": "2020-12-09T21:48:45.364990Z",
     "shell.execute_reply": "2020-12-09T21:48:45.364449Z"
    },
    "papermill": {
     "duration": 0.085253,
     "end_time": "2020-12-09T21:48:45.365112",
     "exception": false,
     "start_time": "2020-12-09T21:48:45.279859",
     "status": "completed"
    },
    "tags": []
   },
   "outputs": [],
   "source": [
    "lr = LogisticRegression(solver = 'liblinear', max_iter = 200)\n",
    "knn = KNeighborsClassifier(n_neighbors = 10)\n",
    "forest = RandomForestClassifier(n_estimators = 200)\n",
    "svc = SVC()"
   ]
  },
  {
   "cell_type": "code",
   "execution_count": 46,
   "metadata": {
    "execution": {
     "iopub.execute_input": "2020-12-09T21:48:45.550081Z",
     "iopub.status.busy": "2020-12-09T21:48:45.549228Z",
     "iopub.status.idle": "2020-12-09T21:48:50.194114Z",
     "shell.execute_reply": "2020-12-09T21:48:50.193581Z"
    },
    "papermill": {
     "duration": 4.7453,
     "end_time": "2020-12-09T21:48:50.194260",
     "exception": false,
     "start_time": "2020-12-09T21:48:45.448960",
     "status": "completed"
    },
    "tags": []
   },
   "outputs": [
    {
     "name": "stdout",
     "output_type": "stream",
     "text": [
      "Accuracy: 0.80 (+/- 0.06)\n",
      "Accuracy: 0.79 (+/- 0.09)\n",
      "Accuracy: 0.81 (+/- 0.07)\n",
      "Accuracy: 0.80 (+/- 0.07)\n"
     ]
    }
   ],
   "source": [
    "models = [lr, knn, forest, svc]\n",
    "\n",
    "scores = []\n",
    "for model in models:\n",
    "    scores.append(cross_val_score(model, x, y, cv = 10))\n",
    "\n",
    "for score in scores:\n",
    "    print(\"Accuracy: %0.2f (+/- %0.2f)\" % (score.mean(), score.std() * 2))"
   ]
  },
  {
   "cell_type": "markdown",
   "metadata": {
    "papermill": {
     "duration": 0.077393,
     "end_time": "2020-12-09T21:48:50.349593",
     "exception": false,
     "start_time": "2020-12-09T21:48:50.272200",
     "status": "completed"
    },
    "tags": []
   },
   "source": [
    "Not bad! Let's see how the voting classifier does:"
   ]
  },
  {
   "cell_type": "code",
   "execution_count": 47,
   "metadata": {
    "execution": {
     "iopub.execute_input": "2020-12-09T21:48:50.524792Z",
     "iopub.status.busy": "2020-12-09T21:48:50.524102Z",
     "iopub.status.idle": "2020-12-09T21:48:50.527330Z",
     "shell.execute_reply": "2020-12-09T21:48:50.526799Z"
    },
    "papermill": {
     "duration": 0.100859,
     "end_time": "2020-12-09T21:48:50.527447",
     "exception": false,
     "start_time": "2020-12-09T21:48:50.426588",
     "status": "completed"
    },
    "tags": []
   },
   "outputs": [],
   "source": [
    "vote = VotingClassifier(estimators = [('knn', knn), ('forest', forest), ('svc', svc), ('lr', lr)])"
   ]
  },
  {
   "cell_type": "code",
   "execution_count": 48,
   "metadata": {
    "execution": {
     "iopub.execute_input": "2020-12-09T21:48:50.687585Z",
     "iopub.status.busy": "2020-12-09T21:48:50.686614Z",
     "iopub.status.idle": "2020-12-09T21:48:55.372322Z",
     "shell.execute_reply": "2020-12-09T21:48:55.372900Z"
    },
    "papermill": {
     "duration": 4.769013,
     "end_time": "2020-12-09T21:48:55.373049",
     "exception": false,
     "start_time": "2020-12-09T21:48:50.604036",
     "status": "completed"
    },
    "tags": []
   },
   "outputs": [],
   "source": [
    "score = cross_val_score(vote, x, y, cv = 10)"
   ]
  },
  {
   "cell_type": "code",
   "execution_count": 49,
   "metadata": {
    "execution": {
     "iopub.execute_input": "2020-12-09T21:48:55.533004Z",
     "iopub.status.busy": "2020-12-09T21:48:55.532340Z",
     "iopub.status.idle": "2020-12-09T21:48:55.535415Z",
     "shell.execute_reply": "2020-12-09T21:48:55.536055Z"
    },
    "papermill": {
     "duration": 0.085939,
     "end_time": "2020-12-09T21:48:55.536260",
     "exception": false,
     "start_time": "2020-12-09T21:48:55.450321",
     "status": "completed"
    },
    "tags": []
   },
   "outputs": [
    {
     "name": "stdout",
     "output_type": "stream",
     "text": [
      "Accuracy: 0.83 (+/- 0.07)\n"
     ]
    }
   ],
   "source": [
    "print(\"Accuracy: %0.2f (+/- %0.2f)\" % (score.mean(), score.std() * 2))"
   ]
  },
  {
   "cell_type": "markdown",
   "metadata": {
    "papermill": {
     "duration": 0.076166,
     "end_time": "2020-12-09T21:48:55.690708",
     "exception": false,
     "start_time": "2020-12-09T21:48:55.614542",
     "status": "completed"
    },
    "tags": []
   },
   "source": [
    "The voting classifier does better than each of the other classifiers. This is the power of ensemble methods!\n",
    "\n",
    "Now we will use the voting classifier on the test data and submit our predictions:"
   ]
  },
  {
   "cell_type": "code",
   "execution_count": 50,
   "metadata": {
    "execution": {
     "iopub.execute_input": "2020-12-09T21:48:55.852804Z",
     "iopub.status.busy": "2020-12-09T21:48:55.852065Z",
     "iopub.status.idle": "2020-12-09T21:48:55.863660Z",
     "shell.execute_reply": "2020-12-09T21:48:55.862993Z"
    },
    "papermill": {
     "duration": 0.095776,
     "end_time": "2020-12-09T21:48:55.863779",
     "exception": false,
     "start_time": "2020-12-09T21:48:55.768003",
     "status": "completed"
    },
    "tags": []
   },
   "outputs": [],
   "source": [
    "test_df = pd.read_csv('../input/titanic/test.csv')"
   ]
  },
  {
   "cell_type": "markdown",
   "metadata": {
    "papermill": {
     "duration": 0.07648,
     "end_time": "2020-12-09T21:48:56.017866",
     "exception": false,
     "start_time": "2020-12-09T21:48:55.941386",
     "status": "completed"
    },
    "tags": []
   },
   "source": [
    "First, we apply all the transformations we did for our training set:"
   ]
  },
  {
   "cell_type": "code",
   "execution_count": 51,
   "metadata": {
    "execution": {
     "iopub.execute_input": "2020-12-09T21:48:56.179100Z",
     "iopub.status.busy": "2020-12-09T21:48:56.178462Z",
     "iopub.status.idle": "2020-12-09T21:48:56.181626Z",
     "shell.execute_reply": "2020-12-09T21:48:56.181039Z"
    },
    "papermill": {
     "duration": 0.087049,
     "end_time": "2020-12-09T21:48:56.181740",
     "exception": false,
     "start_time": "2020-12-09T21:48:56.094691",
     "status": "completed"
    },
    "tags": []
   },
   "outputs": [],
   "source": [
    "p_id = test_df['PassengerId']\n",
    "\n",
    "test_df = test_df.drop('PassengerId', axis = 1)"
   ]
  },
  {
   "cell_type": "code",
   "execution_count": 52,
   "metadata": {
    "execution": {
     "iopub.execute_input": "2020-12-09T21:48:56.355293Z",
     "iopub.status.busy": "2020-12-09T21:48:56.354268Z",
     "iopub.status.idle": "2020-12-09T21:48:58.477552Z",
     "shell.execute_reply": "2020-12-09T21:48:58.476857Z"
    },
    "papermill": {
     "duration": 2.219059,
     "end_time": "2020-12-09T21:48:58.477674",
     "exception": false,
     "start_time": "2020-12-09T21:48:56.258615",
     "status": "completed"
    },
    "tags": []
   },
   "outputs": [],
   "source": [
    "test_df['title'] = test_df['Name'].apply(splitter)\n",
    "test_df['deck'] = test_df['Cabin'].apply(lambda x : str(x).split(' ')[0]).apply(remove_digits)\n",
    "test_df['title'] = test_df['title'].apply(lambda x : 'Other' if x not in ['Mr', 'Master', 'Miss', 'Mrs'] else x)\n",
    "test_df['alone'] = (test_df['SibSp'] + test_df['Parch']).apply(lambda x : 1 if x == 0 else 0)\n",
    "test_df['age_imp'] = test_df[['Age', 'title']].apply(imp, axis = 1)\n",
    "test_df['fare_bins'] = pd.qcut(x = test_df['Fare'], q = 10, labels = [1, 2, 3, 4, 5, 6, 7, 8, 9, 10], duplicates = 'drop')\n",
    "test_df['age_bins'] = pd.qcut(x = test_df['age_imp'], q = 10, labels = [1, 2, 3, 4, 5, 6, 7, 8, 9], duplicates = 'drop')"
   ]
  },
  {
   "cell_type": "code",
   "execution_count": 53,
   "metadata": {
    "execution": {
     "iopub.execute_input": "2020-12-09T21:48:58.641706Z",
     "iopub.status.busy": "2020-12-09T21:48:58.640710Z",
     "iopub.status.idle": "2020-12-09T21:48:58.643481Z",
     "shell.execute_reply": "2020-12-09T21:48:58.642921Z"
    },
    "papermill": {
     "duration": 0.088934,
     "end_time": "2020-12-09T21:48:58.643606",
     "exception": false,
     "start_time": "2020-12-09T21:48:58.554672",
     "status": "completed"
    },
    "tags": []
   },
   "outputs": [],
   "source": [
    "test_df['deck'] = test_df['deck'].map({'A':'ABC','B':'ABC','C':'ABC','D':'DE','E':'DE','F':'FG','G':'FG','n':'U'})"
   ]
  },
  {
   "cell_type": "code",
   "execution_count": 54,
   "metadata": {
    "execution": {
     "iopub.execute_input": "2020-12-09T21:48:58.810738Z",
     "iopub.status.busy": "2020-12-09T21:48:58.806993Z",
     "iopub.status.idle": "2020-12-09T21:48:58.821320Z",
     "shell.execute_reply": "2020-12-09T21:48:58.821853Z"
    },
    "papermill": {
     "duration": 0.099537,
     "end_time": "2020-12-09T21:48:58.822014",
     "exception": false,
     "start_time": "2020-12-09T21:48:58.722477",
     "status": "completed"
    },
    "tags": []
   },
   "outputs": [],
   "source": [
    "test_dummies = pd.get_dummies(test_df[['Embarked', 'Sex', 'title', 'deck']], drop_first = True)\n",
    "\n",
    "test_df_final = pd.concat([test_df, test_dummies], axis = 1).drop(\n",
    "    ['Age', 'SibSp', 'Parch', 'Fare', 'Name', 'Sex', 'Ticket', 'Cabin', 'Embarked', 'title', 'age_imp', 'deck'], axis = 1)"
   ]
  },
  {
   "cell_type": "code",
   "execution_count": 55,
   "metadata": {
    "execution": {
     "iopub.execute_input": "2020-12-09T21:48:58.990466Z",
     "iopub.status.busy": "2020-12-09T21:48:58.989765Z",
     "iopub.status.idle": "2020-12-09T21:48:58.994407Z",
     "shell.execute_reply": "2020-12-09T21:48:58.993539Z"
    },
    "papermill": {
     "duration": 0.095196,
     "end_time": "2020-12-09T21:48:58.994587",
     "exception": false,
     "start_time": "2020-12-09T21:48:58.899391",
     "status": "completed"
    },
    "tags": []
   },
   "outputs": [
    {
     "name": "stdout",
     "output_type": "stream",
     "text": [
      "<class 'pandas.core.frame.DataFrame'>\n",
      "RangeIndex: 418 entries, 0 to 417\n",
      "Data columns (total 14 columns):\n",
      " #   Column       Non-Null Count  Dtype   \n",
      "---  ------       --------------  -----   \n",
      " 0   Pclass       418 non-null    int64   \n",
      " 1   alone        418 non-null    int64   \n",
      " 2   fare_bins    417 non-null    category\n",
      " 3   age_bins     418 non-null    category\n",
      " 4   Embarked_Q   418 non-null    uint8   \n",
      " 5   Embarked_S   418 non-null    uint8   \n",
      " 6   Sex_male     418 non-null    uint8   \n",
      " 7   title_Miss   418 non-null    uint8   \n",
      " 8   title_Mr     418 non-null    uint8   \n",
      " 9   title_Mrs    418 non-null    uint8   \n",
      " 10  title_Other  418 non-null    uint8   \n",
      " 11  deck_DE      418 non-null    uint8   \n",
      " 12  deck_FG      418 non-null    uint8   \n",
      " 13  deck_U       418 non-null    uint8   \n",
      "dtypes: category(2), int64(2), uint8(10)\n",
      "memory usage: 12.3 KB\n"
     ]
    }
   ],
   "source": [
    "test_df_final.info()"
   ]
  },
  {
   "cell_type": "markdown",
   "metadata": {
    "papermill": {
     "duration": 0.077954,
     "end_time": "2020-12-09T21:48:59.151935",
     "exception": false,
     "start_time": "2020-12-09T21:48:59.073981",
     "status": "completed"
    },
    "tags": []
   },
   "source": [
    "The fare_bins column still has a null value:"
   ]
  },
  {
   "cell_type": "code",
   "execution_count": 56,
   "metadata": {
    "execution": {
     "iopub.execute_input": "2020-12-09T21:48:59.324395Z",
     "iopub.status.busy": "2020-12-09T21:48:59.315881Z",
     "iopub.status.idle": "2020-12-09T21:48:59.328742Z",
     "shell.execute_reply": "2020-12-09T21:48:59.328068Z"
    },
    "papermill": {
     "duration": 0.097727,
     "end_time": "2020-12-09T21:48:59.328858",
     "exception": false,
     "start_time": "2020-12-09T21:48:59.231131",
     "status": "completed"
    },
    "tags": []
   },
   "outputs": [
    {
     "data": {
      "text/html": [
       "<div>\n",
       "<style scoped>\n",
       "    .dataframe tbody tr th:only-of-type {\n",
       "        vertical-align: middle;\n",
       "    }\n",
       "\n",
       "    .dataframe tbody tr th {\n",
       "        vertical-align: top;\n",
       "    }\n",
       "\n",
       "    .dataframe thead th {\n",
       "        text-align: right;\n",
       "    }\n",
       "</style>\n",
       "<table border=\"1\" class=\"dataframe\">\n",
       "  <thead>\n",
       "    <tr style=\"text-align: right;\">\n",
       "      <th></th>\n",
       "      <th>Pclass</th>\n",
       "      <th>alone</th>\n",
       "      <th>fare_bins</th>\n",
       "      <th>age_bins</th>\n",
       "      <th>Embarked_Q</th>\n",
       "      <th>Embarked_S</th>\n",
       "      <th>Sex_male</th>\n",
       "      <th>title_Miss</th>\n",
       "      <th>title_Mr</th>\n",
       "      <th>title_Mrs</th>\n",
       "      <th>title_Other</th>\n",
       "      <th>deck_DE</th>\n",
       "      <th>deck_FG</th>\n",
       "      <th>deck_U</th>\n",
       "    </tr>\n",
       "  </thead>\n",
       "  <tbody>\n",
       "    <tr>\n",
       "      <th>152</th>\n",
       "      <td>3</td>\n",
       "      <td>1</td>\n",
       "      <td>NaN</td>\n",
       "      <td>9</td>\n",
       "      <td>0</td>\n",
       "      <td>1</td>\n",
       "      <td>1</td>\n",
       "      <td>0</td>\n",
       "      <td>1</td>\n",
       "      <td>0</td>\n",
       "      <td>0</td>\n",
       "      <td>0</td>\n",
       "      <td>0</td>\n",
       "      <td>1</td>\n",
       "    </tr>\n",
       "  </tbody>\n",
       "</table>\n",
       "</div>"
      ],
      "text/plain": [
       "     Pclass  alone fare_bins age_bins  Embarked_Q  Embarked_S  Sex_male  \\\n",
       "152       3      1       NaN        9           0           1         1   \n",
       "\n",
       "     title_Miss  title_Mr  title_Mrs  title_Other  deck_DE  deck_FG  deck_U  \n",
       "152           0         1          0            0        0        0       1  "
      ]
     },
     "execution_count": 56,
     "metadata": {},
     "output_type": "execute_result"
    }
   ],
   "source": [
    "test_df_final[test_df_final['fare_bins'].isnull()]"
   ]
  },
  {
   "cell_type": "markdown",
   "metadata": {
    "papermill": {
     "duration": 0.078258,
     "end_time": "2020-12-09T21:48:59.486008",
     "exception": false,
     "start_time": "2020-12-09T21:48:59.407750",
     "status": "completed"
    },
    "tags": []
   },
   "source": [
    "We'll fill it with the most common value from the training set:"
   ]
  },
  {
   "cell_type": "code",
   "execution_count": 57,
   "metadata": {
    "execution": {
     "iopub.execute_input": "2020-12-09T21:48:59.650916Z",
     "iopub.status.busy": "2020-12-09T21:48:59.649977Z",
     "iopub.status.idle": "2020-12-09T21:48:59.653398Z",
     "shell.execute_reply": "2020-12-09T21:48:59.652839Z"
    },
    "papermill": {
     "duration": 0.089192,
     "end_time": "2020-12-09T21:48:59.653526",
     "exception": false,
     "start_time": "2020-12-09T21:48:59.564334",
     "status": "completed"
    },
    "tags": []
   },
   "outputs": [],
   "source": [
    "test_df_final.loc[152,'fare_bins'] = x['fare_bins_10'].mode()[0]"
   ]
  },
  {
   "cell_type": "markdown",
   "metadata": {
    "papermill": {
     "duration": 0.078186,
     "end_time": "2020-12-09T21:48:59.810400",
     "exception": false,
     "start_time": "2020-12-09T21:48:59.732214",
     "status": "completed"
    },
    "tags": []
   },
   "source": [
    "Finally we train our voting classifier and use it to make predictions on the test set:"
   ]
  },
  {
   "cell_type": "code",
   "execution_count": 58,
   "metadata": {
    "execution": {
     "iopub.execute_input": "2020-12-09T21:48:59.971502Z",
     "iopub.status.busy": "2020-12-09T21:48:59.970816Z",
     "iopub.status.idle": "2020-12-09T21:49:00.475436Z",
     "shell.execute_reply": "2020-12-09T21:49:00.474836Z"
    },
    "papermill": {
     "duration": 0.587356,
     "end_time": "2020-12-09T21:49:00.475555",
     "exception": false,
     "start_time": "2020-12-09T21:48:59.888199",
     "status": "completed"
    },
    "tags": []
   },
   "outputs": [],
   "source": [
    "vote.fit(x,y)\n",
    "\n",
    "preds = vote.predict(test_df_final)"
   ]
  },
  {
   "cell_type": "markdown",
   "metadata": {
    "papermill": {
     "duration": 0.079499,
     "end_time": "2020-12-09T21:49:00.633717",
     "exception": false,
     "start_time": "2020-12-09T21:49:00.554218",
     "status": "completed"
    },
    "tags": []
   },
   "source": [
    "Now let's make a CSV file to submit:"
   ]
  },
  {
   "cell_type": "code",
   "execution_count": 59,
   "metadata": {
    "execution": {
     "iopub.execute_input": "2020-12-09T21:49:00.797680Z",
     "iopub.status.busy": "2020-12-09T21:49:00.796713Z",
     "iopub.status.idle": "2020-12-09T21:49:01.076637Z",
     "shell.execute_reply": "2020-12-09T21:49:01.075891Z"
    },
    "papermill": {
     "duration": 0.364632,
     "end_time": "2020-12-09T21:49:01.076760",
     "exception": false,
     "start_time": "2020-12-09T21:49:00.712128",
     "status": "completed"
    },
    "tags": []
   },
   "outputs": [],
   "source": [
    "submission = pd.DataFrame({'PassengerId' : p_id, 'Survived' : preds})\n",
    "\n",
    "\n",
    "submission.to_csv('submission.csv', index = False)"
   ]
  }
 ],
 "metadata": {
  "kernelspec": {
   "display_name": "Python 3",
   "language": "python",
   "name": "python3"
  },
  "language_info": {
   "codemirror_mode": {
    "name": "ipython",
    "version": 3
   },
   "file_extension": ".py",
   "mimetype": "text/x-python",
   "name": "python",
   "nbconvert_exporter": "python",
   "pygments_lexer": "ipython3",
   "version": "3.8.5"
  },
  "papermill": {
   "duration": 40.693697,
   "end_time": "2020-12-09T21:49:01.264949",
   "environment_variables": {},
   "exception": null,
   "input_path": "__notebook__.ipynb",
   "output_path": "__notebook__.ipynb",
   "parameters": {},
   "start_time": "2020-12-09T21:48:20.571252",
   "version": "2.1.0"
  }
 },
 "nbformat": 4,
 "nbformat_minor": 4
}
